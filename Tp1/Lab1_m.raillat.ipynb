{
  "cells": [
    {
      "cell_type": "markdown",
      "metadata": {
        "id": "eGFh78hFwXOF"
      },
      "source": [
        "<img style=\"float: left; padding-right: 10px; width: 45px\" src=\"https://upload.wikimedia.org/wikipedia/fr/b/b1/Logo_EPF.png?raw=true\"> \n",
        "\n",
        "# Introduction to Machine Learning\n",
        "**P2023: Data engineering**<br>\n",
        "\n",
        "\n",
        "## Lab 1:  Simple Linear Regression\n",
        "\n",
        "### First name: Maxime\n",
        "### Last name: Raillat\n",
        "### Group: A1\n",
        "\n",
        "\n",
        "---"
      ]
    },
    {
      "cell_type": "markdown",
      "metadata": {
        "id": "jbVRg2iCwXOK"
      },
      "source": [
        "# Table of Contents\n",
        "<ol start=\"1\">\n",
        "  <li> Array creation and reshape</li>\n",
        "  <li> Some plotting\n",
        "  <li> Simple linear regression  </li>\n",
        "  <li> Bonus: $k$-nearest neighbors</li>\n",
        "</ol>"
      ]
    },
    {
      "cell_type": "markdown",
      "metadata": {
        "id": "tMWrvErdwXOK"
      },
      "source": [
        "## Learning Goals\n",
        "\n",
        "Overall description and goal for the lab.\n",
        "\n",
        "By the end of this lab, you should be able to:\n",
        "* Understand array reshaping\n",
        "* Review how to make plots\n",
        "* Feel comfortable with simple linear regression\n",
        "\n"
      ]
    },
    {
      "cell_type": "code",
      "execution_count": 1,
      "metadata": {
        "id": "BrKuKl_0wXOL"
      },
      "outputs": [],
      "source": [
        "# import the necessary libraries\n",
        "import warnings\n",
        "warnings.filterwarnings('ignore')\n",
        "%matplotlib inline\n",
        "import numpy as np\n",
        "import scipy as sp\n",
        "import matplotlib as mpl\n",
        "import matplotlib.cm as cm\n",
        "import matplotlib.pyplot as plt\n",
        "import pandas as pd\n",
        "import time\n",
        "pd.set_option('display.width', 500)\n",
        "pd.set_option('display.max_columns', 100)\n",
        "pd.set_option('display.notebook_repr_html', True)\n",
        "import seaborn as sns"
      ]
    },
    {
      "cell_type": "markdown",
      "metadata": {
        "id": "WK80QVk7wXOL"
      },
      "source": [
        "## Simple Linear Regression\n",
        "Linear regression and its many extensions are a workhorse of the statistics and data science community, both in application and as a reference point for other models. Most of the major concepts in machine learning can be and often are discussed in terms of various linear regression models. Thus, this section will introduce you to building and fitting linear regression models and some of the process behind it, so that you can 1) fit models to data you encounter 2) experiment with different kinds of linear regression and observe their effects 3) see some of the technology that makes regression models work.\n",
        "\n",
        "\n",
        "### Linear regression with a toy dataset\n",
        "We first examine a toy problem, focusing our efforts on fitting a linear model to a small dataset with three observations.  Each observation consists of one predictor $x_i$ and one response $y_i$ for $i = 1, 2, 3$,\n",
        "\n",
        "\\begin{align*}\n",
        "(x , y) = \\{(x_1, y_1), (x_2, y_2), (x_3, y_3)\\}.\n",
        "\\end{align*}\n",
        "\n",
        "To be very concrete, let's set the values of the predictors and responses.\n",
        "\n",
        "\\begin{equation*}\n",
        "(x , y) = \\{(1, 2), (2, 2), (3, 4)\\}\n",
        "\\end{equation*}\n",
        "\n",
        "There is no line of the form $\\beta_0 + \\beta_1 x = y$ that passes through all three observations, since the data are not collinear. Thus our aim is to find the line that best fits these observations in the *least-squares sense*, as discussed in lecture."
      ]
    },
    {
      "cell_type": "markdown",
      "metadata": {
        "id": "ubfUbYUuwXOM"
      },
      "source": [
        "<div class=\"exercise\"><b>Exercise (10 min)</b></div>\n",
        "\n",
        "* Make two numpy arrays out of this data, x_train and y_train\n",
        "* Check the dimentions of these arrays\n",
        "* Make points into a very simple scatterplot\n",
        "* Make a better scatterplot"
      ]
    },
    {
      "cell_type": "code",
      "execution_count": 2,
      "metadata": {
        "id": "urct4kHfwXOM"
      },
      "outputs": [
        {
          "data": {
            "text/plain": [
              "numpy.ndarray"
            ]
          },
          "execution_count": 2,
          "metadata": {},
          "output_type": "execute_result"
        }
      ],
      "source": [
        "# TODO: Make two numpy arrays out of this data, x_train and y_train\n",
        "x_train = np.array([1,2,3])\n",
        "y_train = np.array([2,2,4])\n",
        "type(x_train)"
      ]
    },
    {
      "cell_type": "code",
      "execution_count": 3,
      "metadata": {
        "id": "4LAdFFQywXON"
      },
      "outputs": [
        {
          "data": {
            "text/plain": [
              "1"
            ]
          },
          "execution_count": 3,
          "metadata": {},
          "output_type": "execute_result"
        }
      ],
      "source": [
        "# TODO: Check the dimentions of these arrays\n",
        "x_train.ndim\n",
        "y_train.ndim"
      ]
    },
    {
      "cell_type": "code",
      "execution_count": 4,
      "metadata": {
        "id": "mYaqvT5vwXOP"
      },
      "outputs": [
        {
          "data": {
            "text/plain": [
              "<AxesSubplot:>"
            ]
          },
          "execution_count": 4,
          "metadata": {},
          "output_type": "execute_result"
        },
        {
          "data": {
            "image/png": "[encoded data removed]",
            "text/plain": [
              "<Figure size 432x288 with 1 Axes>"
            ]
          },
          "metadata": {
            "needs_background": "light"
          },
          "output_type": "display_data"
        }
      ],
      "source": [
        "# TODO: Make a simple scatterplot\n",
        "sns.scatterplot(x=x_train, y=y_train)"
      ]
    },
    {
      "cell_type": "code",
      "execution_count": 5,
      "metadata": {
        "id": "KcTV9F_RwXOP"
      },
      "outputs": [
        {
          "data": {
            "text/plain": [
              "<AxesSubplot:title={'center':'hello nice plot'}, xlabel='$x$', ylabel='$y$'>"
            ]
          },
          "execution_count": 5,
          "metadata": {},
          "output_type": "execute_result"
        },
        {
          "data": {
            "image/png": "[encoded data removed]",
            "text/plain": [
              "<Figure size 576x360 with 1 Axes>"
            ]
          },
          "metadata": {
            "needs_background": "light"
          },
          "output_type": "display_data"
        }
      ],
      "source": [
        "def nice_scatterplot(x, y, title):\n",
        "    # font size\n",
        "    f_size = 18\n",
        "    \n",
        "    # make the figure\n",
        "    fig, ax = plt.subplots(1,1, figsize=(8,5)) # Create figure object\n",
        "\n",
        "    # set axes limits to make the scale nice\n",
        "    ax.set_xlim(np.min(x)-1, np.max(x) + 1)\n",
        "    ax.set_ylim(np.min(y)-1, np.max(y) + 1)\n",
        "\n",
        "    # adjust size of tickmarks in axes\n",
        "    ax.tick_params(labelsize = f_size)\n",
        "    \n",
        "    # remove tick labels\n",
        "    ax.tick_params(labelbottom=False,  bottom=False)\n",
        "    \n",
        "    # adjust size of axis label\n",
        "    ax.set_xlabel(r'$x$', fontsize = f_size)\n",
        "    ax.set_ylabel(r'$y$', fontsize = f_size)\n",
        "    \n",
        "    # set figure title label\n",
        "    ax.set_title(title, fontsize = f_size)\n",
        "\n",
        "    # you may set up grid with this \n",
        "    ax.grid(True, lw=1.75, ls='--', alpha=0.15)\n",
        "\n",
        "    # make actual plot (Notice the label argument!)\n",
        "    ax.scatter(x, y, label=r'$my\\,points$')\n",
        "    ax.legend(loc='best', fontsize = f_size);\n",
        "    \n",
        "    return ax\n",
        "\n",
        "nice_scatterplot(x_train, y_train, 'hello nice plot')\n"
      ]
    },
    {
      "cell_type": "markdown",
      "metadata": {
        "id": "H2FpbSnGwXOQ"
      },
      "source": [
        "\n",
        "#### Formulae\n",
        "Linear regression is special among the models we study beuase it can be solved explicitly. While most other models (and even some advanced versions of linear regression) must be solved itteratively, linear regression has a formula where you can simply plug in the data.\n",
        "\n",
        "For the single predictor case it is:\n",
        "    $$ \\begin{align}\n",
        "      \\beta_1 &= \\frac{\\sum_{i=1}^n{(x_i-\\bar{x})(y_i-\\bar{y})}}{\\sum_{i=1}^n{(x_i-\\bar{x})^2}}\\\\\n",
        "      \\beta_0 &= \\bar{y} - \\beta_1\\bar{x}\\\n",
        "    \\end{align}$$\n",
        "    \n",
        "Where $\\bar{y}$ and $\\bar{x}$ are the mean of the y values and the mean of the x values, respectively.\n",
        "\n",
        "From the re-aranged second equation we can see that the best-fit line  passes through $(\\bar{x},\\bar{y})$, the center of mass of the data\n",
        "\n",
        "From any of the first equations, we can see that the slope of the line has to do with whether or not an x value that is above/below the center of mass is typically paired with a y value that is likewise above/below, or typically paired with one that is opposite."
      ]
    },
    {
      "cell_type": "markdown",
      "metadata": {
        "id": "eLISRnvSwXOQ"
      },
      "source": [
        "###  Building a model from scratch\n",
        "In this part, we will solve the equations for simple linear regression and find the best fit solution to our toy problem."
      ]
    },
    {
      "cell_type": "markdown",
      "metadata": {
        "id": "nu2isNy9wXOR"
      },
      "source": [
        "The snippets of code below implement the linear regression equations on the observed predictors and responses, which we'll call the training data set.  Let's walk through the code.\n",
        "\n",
        "We have to reshape our arrrays to 2D. We will see later why."
      ]
    },
    {
      "cell_type": "markdown",
      "metadata": {
        "id": "M7g8Q2dZwXOR"
      },
      "source": [
        "<div class=\"exercise\"><b>Exercise (5 min)</b></div>\n",
        "* make an array with shape (2,3)\n",
        "* reshape it to a size that you want"
      ]
    },
    {
      "cell_type": "code",
      "execution_count": 6,
      "metadata": {
        "id": "-uFDHrhswXOR"
      },
      "outputs": [],
      "source": [
        "# TODO: Reshape example\n",
        "dummy_array = np.array([[1,2,3,4,5,6]])\n",
        "\n",
        "dummy_array_reshaped =dummy_array.reshape(2,3)\n",
        "#dummy_array_reshaped.shape"
      ]
    },
    {
      "cell_type": "code",
      "execution_count": 7,
      "metadata": {
        "id": "nfKCZIhEwXOR"
      },
      "outputs": [
        {
          "name": "stdout",
          "output_type": "stream",
          "text": [
            "(3, 1)\n"
          ]
        }
      ],
      "source": [
        "# TODO: Reshape x_train and y_train to be a proper 2D array\n",
        "x_train = x_train.reshape(3,1)\n",
        "y_train = y_train.reshape(3,1)\n",
        "\n",
        "print(x_train.shape)"
      ]
    },
    {
      "cell_type": "code",
      "execution_count": 8,
      "metadata": {
        "id": "GoPFhy2awXOS"
      },
      "outputs": [
        {
          "name": "stdout",
          "output_type": "stream",
          "text": [
            "2.0 2.0\n"
          ]
        },
        {
          "data": {
            "text/plain": [
              "((), ())"
            ]
          },
          "execution_count": 8,
          "metadata": {},
          "output_type": "execute_result"
        }
      ],
      "source": [
        "# TODO: first, compute means y_bar and x_bar\n",
        "x_bar = x_train.mean()\n",
        "y_bar=y_train.mean()\n",
        "\n",
        "\n",
        "# TODO: build the two terms numerator and denominator from the formula above\n",
        "numerator = ((x_train-x_bar)*(y_train-y_bar))\n",
        "numerator =np.sum(numerator)\n",
        "denominator = (x_train-x_bar)*(x_train-x_bar)\n",
        "denominator = np.sum(denominator)\n",
        "print(numerator,denominator)\n",
        "\n",
        "\n",
        "# TODO: check shapes of numerator and denominator and comment the result\n",
        "numerator.shape , denominator.shape\n"
      ]
    },
    {
      "cell_type": "markdown",
      "metadata": {
        "id": "wBsl6RYNwXOS"
      },
      "source": [
        "* Why the empty brackets? <br>\n",
        " **Answer here : We obtain two scalars thanks to our formula**"
      ]
    },
    {
      "cell_type": "code",
      "execution_count": 9,
      "metadata": {
        "id": "ABTC0Xl7wXOT"
      },
      "outputs": [
        {
          "name": "stdout",
          "output_type": "stream",
          "text": [
            "The best-fit line is 0.67 + 1.00 * x\n",
            "The best fit is 0.6666666666666665\n"
          ]
        }
      ],
      "source": [
        "# TODO: compute slope beta_1\n",
        "beta_1 = numerator/denominator\n",
        "\n",
        "# TODO: compute intercept beta_0\n",
        "beta_0 = y_bar - beta_1*x_bar\n",
        "\n",
        "print(\"The best-fit line is {0:3.2f} + {1:3.2f} * x\".format(beta_0, beta_1))\n",
        "print(f'The best fit is {beta_0}')"
      ]
    },
    {
      "cell_type": "markdown",
      "metadata": {
        "id": "SM5LLOi5wXOT"
      },
      "source": [
        "<div class=\"exercise\"><b>Exercise (5 min)</b></div>\n",
        "\n",
        "Turn the code from the above cells into a function called `simple_linear_regression_fit`, that inputs the training data and returns `beta0` and `beta1`.\n",
        "\n",
        "To do this, copy and paste the code from the above cells below and adjust the code as needed, so that the training data becomes the input and the betas become the output.\n",
        "\n",
        "```python\n",
        "def simple_linear_regression_fit(x_train: np.ndarray, y_train: np.ndarray) -> np.ndarray:\n",
        "    \n",
        "    return\n",
        "```\n",
        "\n",
        "Check your function by calling it with the training data from above and printing out the beta values."
      ]
    },
    {
      "cell_type": "code",
      "execution_count": 10,
      "metadata": {
        "id": "9fAohzvTwXOT"
      },
      "outputs": [],
      "source": [
        "# TODO: Your code here\n",
        "\n",
        "def simple_linear_regression_fit(x_train: np.ndarray, y_train: np.ndarray) -> np.ndarray:\n",
        "    x_bar = x_train.mean()\n",
        "    y_bar=y_train.mean()\n",
        "    numerator = ((x_train-x_bar)*(y_train-y_bar))\n",
        "    numerator =np.sum(numerator)\n",
        "    denominator = (x_train-x_bar)*(x_train-x_bar)\n",
        "    denominator = np.sum(denominator)\n",
        "    beta_1 = numerator/denominator\n",
        "    beta_0 = y_bar - beta_1*x_bar\n",
        "    return [beta_0,beta_1]"
      ]
    },
    {
      "cell_type": "markdown",
      "metadata": {
        "id": "tpaUhEgawXOU"
      },
      "source": [
        "* Let's run this function and see the coefficients"
      ]
    },
    {
      "cell_type": "code",
      "execution_count": 11,
      "metadata": {
        "id": "_5nSG6CFwXOU"
      },
      "outputs": [
        {
          "name": "stdout",
          "output_type": "stream",
          "text": [
            "The best-fit line is 0.666667 + 1.000000 * x\n"
          ]
        }
      ],
      "source": [
        "x_train = np.array([1 ,2, 3])\n",
        "y_train = np.array([2, 2, 4])\n",
        "\n",
        "betas = simple_linear_regression_fit(x_train, y_train)\n",
        "\n",
        "beta_0 = betas[0]\n",
        "beta_1 = betas[1]\n",
        "\n",
        "print(\"The best-fit line is {0:8.6f} + {1:8.6f} * x\".format(beta_0, beta_1))"
      ]
    },
    {
      "cell_type": "markdown",
      "metadata": {
        "id": "AU_8bg7YwXOV"
      },
      "source": [
        "<div class=\"exercise\"><b>Exercise (10 min)</b></div>\n",
        "* Do the values of `beta0` and `beta1` seem reasonable?\n",
        "* Plot the training data using a scatter plot.\n",
        "* Plot the best fit line with `beta0` and `beta1` together with the training data."
      ]
    },
    {
      "cell_type": "code",
      "execution_count": 12,
      "metadata": {
        "id": "m9F_N4_CwXOV"
      },
      "outputs": [
        {
          "data": {
            "text/plain": [
              "Text(0.5, 0, 'x')"
            ]
          },
          "execution_count": 12,
          "metadata": {},
          "output_type": "execute_result"
        },
        {
          "data": {
            "image/png": "[encoded data removed]",
            "text/plain": [
              "<Figure size 432x288 with 1 Axes>"
            ]
          },
          "metadata": {
            "needs_background": "light"
          },
          "output_type": "display_data"
        }
      ],
      "source": [
        "# TODO: Your code here\n",
        "plt.scatter(x=x_train, y=y_train)\n",
        "\n",
        "plt.plot(x_train,beta_0+beta_1*x_train,color='green')\n",
        "plt.legend(\"0.666667+1.000000*x\")\n",
        "plt.ylabel(\"y\")\n",
        "plt.xlabel(\"x\")"
      ]
    },
    {
      "cell_type": "markdown",
      "metadata": {
        "id": "Glk0ElImwXOX"
      },
      "source": [
        "Do the values of `beta0` and `beta1` seem reasonable ? <br>\n",
        "**Answer here : The approximation is not very good the line plot if far from the points, in our casse we don't have a lot of points. So from about datas the approximation is quite good**\n"
      ]
    },
    {
      "cell_type": "markdown",
      "metadata": {
        "id": "4qkAWd7iwXOX"
      },
      "source": [
        "### Building a model with `sklearn`\n",
        "\n",
        "Now that we can concretely fit the training data from scratch, let's learn a `python` packages to do it all for us:\n",
        "* [scikit-learn (sklearn)](http://scikit-learn.org/stable/modules/generated/sklearn.linear_model.LinearRegression.html).\n",
        "\n",
        "Our goal  is to show how to implement simple linear regression with these packages.  For an important sanity check, we compare the $\\beta$ values from `sklearn` to the $\\beta$ values that we found from above with our own implementation."
      ]
    },
    {
      "cell_type": "markdown",
      "metadata": {
        "id": "X_IS8KJfwXOa"
      },
      "source": [
        "Now let's turn our attention to the `sklearn` library."
      ]
    },
    {
      "cell_type": "code",
      "execution_count": 13,
      "metadata": {
        "id": "w_646N2vwXOb"
      },
      "outputs": [],
      "source": [
        "from sklearn import linear_model"
      ]
    },
    {
      "cell_type": "code",
      "execution_count": 14,
      "metadata": {},
      "outputs": [],
      "source": [
        "x_train= x_train.reshape(3,1)\n",
        "y_train = y_train.reshape(3,1)\n"
      ]
    },
    {
      "cell_type": "code",
      "execution_count": 15,
      "metadata": {
        "id": "HZC055TXwXOb"
      },
      "outputs": [
        {
          "name": "stdout",
          "output_type": "stream",
          "text": [
            "The regression coefficients from the sklearn package are: beta_0 = 0.666667 and beta_1 = 1.000000\n"
          ]
        }
      ],
      "source": [
        "# build the least squares model\n",
        "toyregr = linear_model.LinearRegression()\n",
        "\n",
        "# save regression info (parameters, etc) in results\n",
        "results = toyregr.fit(x_train, y_train)\n",
        "\n",
        "# pull the beta parameters out from results\n",
        "beta0_skl = toyregr.intercept_\n",
        "beta1_skl = toyregr.coef_[0]\n",
        "\n",
        "print(\"The regression coefficients from the sklearn package are: beta_0 = {0:8.6f} and beta_1 = {1:8.6f}\".format(beta0_skl[0], beta1_skl[0]))"
      ]
    },
    {
      "cell_type": "markdown",
      "metadata": {
        "id": "ZWWQMamKwXOc"
      },
      "source": [
        "We should feel pretty good about ourselves now, and we're ready to move on to a real problem!"
      ]
    },
    {
      "cell_type": "markdown",
      "metadata": {
        "id": "T49yRMDJwXOc"
      },
      "source": [
        "### The shape of things in `scikit-learn`\n",
        "Before diving right in to a \"real\" problem, we really ought to discuss more of the details of `sklearn`.  We do this now.  Along the way, we'll import the real-world dataset."
      ]
    },
    {
      "cell_type": "markdown",
      "metadata": {
        "id": "7GI1MXHYwXOc"
      },
      "source": [
        "`Scikit-learn` is the main `python` machine learning library. It consists of many learners which can learn models from data, as well as a lot of utility functions such as `train_test_split`. It can be used in `python` by the incantation `import sklearn`.\n",
        "\n",
        "In scikit-learn, an **estimator** is a Python object that implements the methods fit(X, y) and predict(T)\n",
        "\n",
        "Let's see the structure of `scikit-learn` needed to make these fits. `.fit` always takes two arguments:\n",
        "```python\n",
        "  estimator.fit(Xtrain, ytrain)\n",
        "```\n",
        "We will consider two estimators in this lab: `LinearRegression` and (Bonus)`KNeighborsRegressor`.\n",
        "\n",
        "Critically, `Xtrain` must be in the form of an *array of arrays* (or a 2x2 array) with the inner arrays each corresponding to one sample, and whose elements correspond to the feature values for that sample (visuals coming in a moment).\n",
        "\n",
        "`ytrain` on the other hand is a simple array of responses.  These are continuous for regression problems.\n",
        "\n",
        "![](images/sklearn2.jpg)"
      ]
    },
    {
      "cell_type": "markdown",
      "metadata": {
        "id": "Y3Glph1owXOd"
      },
      "source": [
        "### Practice with `sklearn`\n",
        "We begin by loading up the `mtcars` dataset and cleaning it up a little bit."
      ]
    },
    {
      "cell_type": "code",
      "execution_count": 16,
      "metadata": {
        "id": "zl0vfbykwXOd"
      },
      "outputs": [
        {
          "data": {
            "text/html": [
              "<div>\n",
              "<style scoped>\n",
              "    .dataframe tbody tr th:only-of-type {\n",
              "        vertical-align: middle;\n",
              "    }\n",
              "\n",
              "    .dataframe tbody tr th {\n",
              "        vertical-align: top;\n",
              "    }\n",
              "\n",
              "    .dataframe thead th {\n",
              "        text-align: right;\n",
              "    }\n",
              "</style>\n",
              "<table border=\"1\" class=\"dataframe\">\n",
              "  <thead>\n",
              "    <tr style=\"text-align: right;\">\n",
              "      <th></th>\n",
              "      <th>car name</th>\n",
              "      <th>mpg</th>\n",
              "      <th>cyl</th>\n",
              "      <th>disp</th>\n",
              "      <th>hp</th>\n",
              "      <th>drat</th>\n",
              "      <th>wt</th>\n",
              "      <th>qsec</th>\n",
              "      <th>vs</th>\n",
              "      <th>am</th>\n",
              "      <th>gear</th>\n",
              "      <th>carb</th>\n",
              "    </tr>\n",
              "  </thead>\n",
              "  <tbody>\n",
              "    <tr>\n",
              "      <th>0</th>\n",
              "      <td>Mazda RX4</td>\n",
              "      <td>21.0</td>\n",
              "      <td>6</td>\n",
              "      <td>160.0</td>\n",
              "      <td>110</td>\n",
              "      <td>3.90</td>\n",
              "      <td>2.620</td>\n",
              "      <td>16.46</td>\n",
              "      <td>0</td>\n",
              "      <td>1</td>\n",
              "      <td>4</td>\n",
              "      <td>4</td>\n",
              "    </tr>\n",
              "    <tr>\n",
              "      <th>1</th>\n",
              "      <td>Mazda RX4 Wag</td>\n",
              "      <td>21.0</td>\n",
              "      <td>6</td>\n",
              "      <td>160.0</td>\n",
              "      <td>110</td>\n",
              "      <td>3.90</td>\n",
              "      <td>2.875</td>\n",
              "      <td>17.02</td>\n",
              "      <td>0</td>\n",
              "      <td>1</td>\n",
              "      <td>4</td>\n",
              "      <td>4</td>\n",
              "    </tr>\n",
              "    <tr>\n",
              "      <th>2</th>\n",
              "      <td>Datsun 710</td>\n",
              "      <td>22.8</td>\n",
              "      <td>4</td>\n",
              "      <td>108.0</td>\n",
              "      <td>93</td>\n",
              "      <td>3.85</td>\n",
              "      <td>2.320</td>\n",
              "      <td>18.61</td>\n",
              "      <td>1</td>\n",
              "      <td>1</td>\n",
              "      <td>4</td>\n",
              "      <td>1</td>\n",
              "    </tr>\n",
              "    <tr>\n",
              "      <th>3</th>\n",
              "      <td>Hornet 4 Drive</td>\n",
              "      <td>21.4</td>\n",
              "      <td>6</td>\n",
              "      <td>258.0</td>\n",
              "      <td>110</td>\n",
              "      <td>3.08</td>\n",
              "      <td>3.215</td>\n",
              "      <td>19.44</td>\n",
              "      <td>1</td>\n",
              "      <td>0</td>\n",
              "      <td>3</td>\n",
              "      <td>1</td>\n",
              "    </tr>\n",
              "    <tr>\n",
              "      <th>4</th>\n",
              "      <td>Hornet Sportabout</td>\n",
              "      <td>18.7</td>\n",
              "      <td>8</td>\n",
              "      <td>360.0</td>\n",
              "      <td>175</td>\n",
              "      <td>3.15</td>\n",
              "      <td>3.440</td>\n",
              "      <td>17.02</td>\n",
              "      <td>0</td>\n",
              "      <td>0</td>\n",
              "      <td>3</td>\n",
              "      <td>2</td>\n",
              "    </tr>\n",
              "  </tbody>\n",
              "</table>\n",
              "</div>"
            ],
            "text/plain": [
              "            car name   mpg  cyl   disp   hp  drat     wt   qsec  vs  am  gear  carb\n",
              "0          Mazda RX4  21.0    6  160.0  110  3.90  2.620  16.46   0   1     4     4\n",
              "1      Mazda RX4 Wag  21.0    6  160.0  110  3.90  2.875  17.02   0   1     4     4\n",
              "2         Datsun 710  22.8    4  108.0   93  3.85  2.320  18.61   1   1     4     1\n",
              "3     Hornet 4 Drive  21.4    6  258.0  110  3.08  3.215  19.44   1   0     3     1\n",
              "4  Hornet Sportabout  18.7    8  360.0  175  3.15  3.440  17.02   0   0     3     2"
            ]
          },
          "execution_count": 16,
          "metadata": {},
          "output_type": "execute_result"
        }
      ],
      "source": [
        "import pandas as pd\n",
        "\n",
        "#load mtcars\n",
        "dfcars = pd.read_csv(\"mtcars.csv\")\n",
        "dfcars = dfcars.rename(columns={\"Unnamed: 0\":\"car name\"})\n",
        "dfcars.head()"
      ]
    },
    {
      "cell_type": "markdown",
      "metadata": {
        "id": "7P7WdK4Jpqit"
      },
      "source": [
        "**Columns definition :**\n",
        "\n",
        "\n",
        "*   mpg : Miles/(US) gallon\n",
        "*   cyl : Number of cylinders\n",
        "*   disp : Displacement (cu.in.)\n",
        "*   hp : Gross horsepower\n",
        "*   drat : Rear axle ratio\n",
        "*   wt : Weight (1000 lbs)\n",
        "*   qsec : 1/4 mile time\n",
        "*   vs : Engine (0 = V-shaped, 1 = straight)\n",
        "*   am : Transmission (0 = automatic, 1 = manual)\n",
        "*   gear : Number of forward gears\n",
        "*   carb : Number of carburetors\n",
        "\n"
      ]
    },
    {
      "cell_type": "markdown",
      "metadata": {
        "id": "IApn4wWRwXOd"
      },
      "source": [
        "Next, let's split the dataset into a training set and test set."
      ]
    },
    {
      "cell_type": "code",
      "execution_count": 17,
      "metadata": {
        "id": "lQcEmXWkwXOd"
      },
      "outputs": [],
      "source": [
        "# split into training set and testing set\n",
        "from sklearn.model_selection import train_test_split\n",
        "\n",
        "# set random_state to get the same split every time\n",
        "traindf, testdf = train_test_split(dfcars, test_size=0.2, random_state=42)"
      ]
    },
    {
      "cell_type": "code",
      "execution_count": 18,
      "metadata": {
        "id": "Js7QLjOrwXOd"
      },
      "outputs": [
        {
          "name": "stdout",
          "output_type": "stream",
          "text": [
            "Shape of full dataset is: (32, 12)\n",
            "Shape of training dataset is: (25, 12)\n",
            "Shape of test dataset is: (7, 12)\n"
          ]
        }
      ],
      "source": [
        "# testing set is around 20% of the total data; training set is around 80%\n",
        "print(\"Shape of full dataset is: {0}\".format(dfcars.shape))\n",
        "print(\"Shape of training dataset is: {0}\".format(traindf.shape))\n",
        "print(\"Shape of test dataset is: {0}\".format(testdf.shape))"
      ]
    },
    {
      "cell_type": "markdown",
      "metadata": {
        "id": "a6USiVsTwXOe"
      },
      "source": [
        "Now we have training and test data.  We still need to select a predictor and a response from this dataset.  Keep in mind that we need to choose the predictor and response from both the training and test set.  You will do this in the exercises below.  However, we provide some starter code for you to get things going."
      ]
    },
    {
      "cell_type": "code",
      "execution_count": 19,
      "metadata": {
        "id": "s605rvKYwXOe"
      },
      "outputs": [],
      "source": [
        "# Extract the response variable that we're interested in\n",
        "y_train = traindf.mpg"
      ]
    },
    {
      "cell_type": "markdown",
      "metadata": {
        "id": "BIarzv_8wXOe"
      },
      "source": [
        "Notice the shape of `y_train`."
      ]
    },
    {
      "cell_type": "code",
      "execution_count": 20,
      "metadata": {
        "id": "19CEjbHTwXOe"
      },
      "outputs": [
        {
          "data": {
            "text/plain": [
              "(25,)"
            ]
          },
          "execution_count": 20,
          "metadata": {},
          "output_type": "execute_result"
        }
      ],
      "source": [
        "np.shape(y_train)"
      ]
    },
    {
      "cell_type": "markdown",
      "metadata": {
        "id": "C7IY_mTRwXOe"
      },
      "source": [
        "Another way to see the shape is to use the shape method."
      ]
    },
    {
      "cell_type": "code",
      "execution_count": 21,
      "metadata": {
        "id": "EM0GVgikwXOf"
      },
      "outputs": [
        {
          "data": {
            "text/plain": [
              "(25,)"
            ]
          },
          "execution_count": 21,
          "metadata": {},
          "output_type": "execute_result"
        }
      ],
      "source": [
        "y_train.shape"
      ]
    },
    {
      "cell_type": "markdown",
      "metadata": {
        "id": "G8x9Nj5lwXOf"
      },
      "source": [
        "This is *not* an \"array of arrays\".  That's okay!  Remember, `sklearn` requires an array of arrays only for the predictor array!  You will have to pay close attention to this in the exercises later.\n",
        "\n",
        "For now, let's discuss two ways out of this debacle.  All we'll do is get `y_train` to be an array of arrays.  This doesn't hurt anything because `sklearn` doesn't care too much about the shape of `y_train`."
      ]
    },
    {
      "cell_type": "markdown",
      "metadata": {
        "id": "T7wrDHvYwXOf"
      },
      "source": [
        "First, let's reshape `y_train` to be an array of arrays using the `reshape` method.  We want the first dimension of `y_train` to be size $25$ and the second dimension to be size $1$."
      ]
    },
    {
      "cell_type": "code",
      "execution_count": 22,
      "metadata": {
        "id": "VrkBmanowXOf"
      },
      "outputs": [],
      "source": [
        "y_train_reshape = y_train.values.reshape(y_train.shape[0], 1)"
      ]
    },
    {
      "cell_type": "code",
      "execution_count": 23,
      "metadata": {
        "id": "8mmykx_gwXOf"
      },
      "outputs": [
        {
          "data": {
            "text/plain": [
              "(25, 1)"
            ]
          },
          "execution_count": 23,
          "metadata": {},
          "output_type": "execute_result"
        }
      ],
      "source": [
        "y_train_reshape.shape"
      ]
    },
    {
      "cell_type": "markdown",
      "metadata": {
        "id": "9KgYFNhhwXOf"
      },
      "source": [
        "Notice that `y_train.shape[0]` gives the size of the first dimension.\n",
        "\n",
        "There's an even easier way to get the correct shape right from the beginning."
      ]
    },
    {
      "cell_type": "code",
      "execution_count": 24,
      "metadata": {
        "id": "qR8ugsamwXOg"
      },
      "outputs": [],
      "source": [
        "y_train_reshape = traindf[['mpg']]"
      ]
    },
    {
      "cell_type": "code",
      "execution_count": 25,
      "metadata": {
        "id": "2_FG34qKwXOg"
      },
      "outputs": [
        {
          "data": {
            "text/plain": [
              "(25, 1)"
            ]
          },
          "execution_count": 25,
          "metadata": {},
          "output_type": "execute_result"
        }
      ],
      "source": [
        "y_train_reshape.shape"
      ]
    },
    {
      "cell_type": "markdown",
      "metadata": {
        "id": "rqaUzEg8wXOg"
      },
      "source": [
        "Finally, there is a nice shortcut to reshaping an array.  `numpy` can infer a dimension based on the other dimensions specified."
      ]
    },
    {
      "cell_type": "code",
      "execution_count": 26,
      "metadata": {
        "id": "AR9FyyMNwXOg"
      },
      "outputs": [
        {
          "data": {
            "text/plain": [
              "(25, 1)"
            ]
          },
          "execution_count": 26,
          "metadata": {},
          "output_type": "execute_result"
        }
      ],
      "source": [
        "y_train_reshape = y_train.values.reshape(-1,1)\n",
        "y_train_reshape.shape\n",
        " "
      ]
    },
    {
      "cell_type": "markdown",
      "metadata": {
        "id": "Wk4878EQwXOg"
      },
      "source": [
        "In this case, we said the second dimension should be size $1$.  Since the requirement of the `reshape()` method is that the requested dimensions be compatible, `numpy` decides the the first dimension must be size $25$.\n",
        "\n",
        "What would the `.shape` return if we did `y_train.values.reshape(-1,5)`? It would be a (5,5) matrix"
      ]
    },
    {
      "cell_type": "markdown",
      "metadata": {
        "id": "opkEMKViwXOg"
      },
      "source": [
        "Okay, enough of that.  The whole reason we went through that whole process was to show you how to reshape your data into the correct format.\n",
        "\n",
        "**IMPORTANT:** Remember that your response variable `ytrain` can be a vector but your predictor variable `xtrain` ***must*** be an array!"
      ]
    },
    {
      "cell_type": "markdown",
      "metadata": {
        "id": "VCUHoK7ZwXOh"
      },
      "source": [
        "### Simple linear regression with automobile data\n",
        "We will now use `sklearn` to predict automobile mileage per gallon (mpg) and evaluate these predictions. We already loaded the data and split them into a training set and a test set."
      ]
    },
    {
      "cell_type": "markdown",
      "metadata": {
        "id": "I3fMdtlEwXOh"
      },
      "source": [
        "We need to choose the variables that we think will be good predictors for the dependent variable `mpg`. "
      ]
    },
    {
      "cell_type": "markdown",
      "metadata": {
        "id": "2Omf2KNawXOh"
      },
      "source": [
        "<div class=\"exercise\"><b>Exercise (10 min)</b></div>\n",
        "* Pick one variable to use as a predictor for simple linear regression.  Create a markdown cell below and discuss your reasons.  \n",
        "* Justify your choice with some visualizations.  \n",
        "* Is there a second variable you'd like to use? For example, we're not doing multiple linear regression here, but if we were, is there another variable you'd like to include if we were using two predictors?"
      ]
    },
    {
      "cell_type": "markdown",
      "metadata": {},
      "source": [
        "In our case I try to find a column of our array where you can find a linear correlation bewteen it and mpg\n",
        "\n",
        "corr(wt,mpg)= 0.87 So I'm going to take the weigth in order to predict the mpg\n",
        "\n",
        "In the case of two predictors I'll use also the disp \n"
      ]
    },
    {
      "cell_type": "code",
      "execution_count": 27,
      "metadata": {},
      "outputs": [
        {
          "data": {
            "text/html": [
              "<div>\n",
              "<style scoped>\n",
              "    .dataframe tbody tr th:only-of-type {\n",
              "        vertical-align: middle;\n",
              "    }\n",
              "\n",
              "    .dataframe tbody tr th {\n",
              "        vertical-align: top;\n",
              "    }\n",
              "\n",
              "    .dataframe thead th {\n",
              "        text-align: right;\n",
              "    }\n",
              "</style>\n",
              "<table border=\"1\" class=\"dataframe\">\n",
              "  <thead>\n",
              "    <tr style=\"text-align: right;\">\n",
              "      <th></th>\n",
              "      <th>mpg</th>\n",
              "      <th>cyl</th>\n",
              "      <th>disp</th>\n",
              "      <th>hp</th>\n",
              "      <th>drat</th>\n",
              "      <th>wt</th>\n",
              "      <th>qsec</th>\n",
              "      <th>vs</th>\n",
              "      <th>am</th>\n",
              "      <th>gear</th>\n",
              "      <th>carb</th>\n",
              "    </tr>\n",
              "  </thead>\n",
              "  <tbody>\n",
              "    <tr>\n",
              "      <th>mpg</th>\n",
              "      <td>1.000000</td>\n",
              "      <td>-0.852162</td>\n",
              "      <td>-0.847551</td>\n",
              "      <td>-0.776168</td>\n",
              "      <td>0.681172</td>\n",
              "      <td>-0.867659</td>\n",
              "      <td>0.418684</td>\n",
              "      <td>0.664039</td>\n",
              "      <td>0.599832</td>\n",
              "      <td>0.480285</td>\n",
              "      <td>-0.550925</td>\n",
              "    </tr>\n",
              "    <tr>\n",
              "      <th>cyl</th>\n",
              "      <td>-0.852162</td>\n",
              "      <td>1.000000</td>\n",
              "      <td>0.902033</td>\n",
              "      <td>0.832447</td>\n",
              "      <td>-0.699938</td>\n",
              "      <td>0.782496</td>\n",
              "      <td>-0.591242</td>\n",
              "      <td>-0.810812</td>\n",
              "      <td>-0.522607</td>\n",
              "      <td>-0.492687</td>\n",
              "      <td>0.526988</td>\n",
              "    </tr>\n",
              "    <tr>\n",
              "      <th>disp</th>\n",
              "      <td>-0.847551</td>\n",
              "      <td>0.902033</td>\n",
              "      <td>1.000000</td>\n",
              "      <td>0.790949</td>\n",
              "      <td>-0.710214</td>\n",
              "      <td>0.887980</td>\n",
              "      <td>-0.433698</td>\n",
              "      <td>-0.710416</td>\n",
              "      <td>-0.591227</td>\n",
              "      <td>-0.555569</td>\n",
              "      <td>0.394977</td>\n",
              "    </tr>\n",
              "    <tr>\n",
              "      <th>hp</th>\n",
              "      <td>-0.776168</td>\n",
              "      <td>0.832447</td>\n",
              "      <td>0.790949</td>\n",
              "      <td>1.000000</td>\n",
              "      <td>-0.448759</td>\n",
              "      <td>0.658748</td>\n",
              "      <td>-0.708223</td>\n",
              "      <td>-0.723097</td>\n",
              "      <td>-0.243204</td>\n",
              "      <td>-0.125704</td>\n",
              "      <td>0.749812</td>\n",
              "    </tr>\n",
              "    <tr>\n",
              "      <th>drat</th>\n",
              "      <td>0.681172</td>\n",
              "      <td>-0.699938</td>\n",
              "      <td>-0.710214</td>\n",
              "      <td>-0.448759</td>\n",
              "      <td>1.000000</td>\n",
              "      <td>-0.712441</td>\n",
              "      <td>0.091205</td>\n",
              "      <td>0.440278</td>\n",
              "      <td>0.712711</td>\n",
              "      <td>0.699610</td>\n",
              "      <td>-0.090790</td>\n",
              "    </tr>\n",
              "    <tr>\n",
              "      <th>wt</th>\n",
              "      <td>-0.867659</td>\n",
              "      <td>0.782496</td>\n",
              "      <td>0.887980</td>\n",
              "      <td>0.658748</td>\n",
              "      <td>-0.712441</td>\n",
              "      <td>1.000000</td>\n",
              "      <td>-0.174716</td>\n",
              "      <td>-0.554916</td>\n",
              "      <td>-0.692495</td>\n",
              "      <td>-0.583287</td>\n",
              "      <td>0.427606</td>\n",
              "    </tr>\n",
              "    <tr>\n",
              "      <th>qsec</th>\n",
              "      <td>0.418684</td>\n",
              "      <td>-0.591242</td>\n",
              "      <td>-0.433698</td>\n",
              "      <td>-0.708223</td>\n",
              "      <td>0.091205</td>\n",
              "      <td>-0.174716</td>\n",
              "      <td>1.000000</td>\n",
              "      <td>0.744535</td>\n",
              "      <td>-0.229861</td>\n",
              "      <td>-0.212682</td>\n",
              "      <td>-0.656249</td>\n",
              "    </tr>\n",
              "    <tr>\n",
              "      <th>vs</th>\n",
              "      <td>0.664039</td>\n",
              "      <td>-0.810812</td>\n",
              "      <td>-0.710416</td>\n",
              "      <td>-0.723097</td>\n",
              "      <td>0.440278</td>\n",
              "      <td>-0.554916</td>\n",
              "      <td>0.744535</td>\n",
              "      <td>1.000000</td>\n",
              "      <td>0.168345</td>\n",
              "      <td>0.206023</td>\n",
              "      <td>-0.569607</td>\n",
              "    </tr>\n",
              "    <tr>\n",
              "      <th>am</th>\n",
              "      <td>0.599832</td>\n",
              "      <td>-0.522607</td>\n",
              "      <td>-0.591227</td>\n",
              "      <td>-0.243204</td>\n",
              "      <td>0.712711</td>\n",
              "      <td>-0.692495</td>\n",
              "      <td>-0.229861</td>\n",
              "      <td>0.168345</td>\n",
              "      <td>1.000000</td>\n",
              "      <td>0.794059</td>\n",
              "      <td>0.057534</td>\n",
              "    </tr>\n",
              "    <tr>\n",
              "      <th>gear</th>\n",
              "      <td>0.480285</td>\n",
              "      <td>-0.492687</td>\n",
              "      <td>-0.555569</td>\n",
              "      <td>-0.125704</td>\n",
              "      <td>0.699610</td>\n",
              "      <td>-0.583287</td>\n",
              "      <td>-0.212682</td>\n",
              "      <td>0.206023</td>\n",
              "      <td>0.794059</td>\n",
              "      <td>1.000000</td>\n",
              "      <td>0.274073</td>\n",
              "    </tr>\n",
              "    <tr>\n",
              "      <th>carb</th>\n",
              "      <td>-0.550925</td>\n",
              "      <td>0.526988</td>\n",
              "      <td>0.394977</td>\n",
              "      <td>0.749812</td>\n",
              "      <td>-0.090790</td>\n",
              "      <td>0.427606</td>\n",
              "      <td>-0.656249</td>\n",
              "      <td>-0.569607</td>\n",
              "      <td>0.057534</td>\n",
              "      <td>0.274073</td>\n",
              "      <td>1.000000</td>\n",
              "    </tr>\n",
              "  </tbody>\n",
              "</table>\n",
              "</div>"
            ],
            "text/plain": [
              "           mpg       cyl      disp        hp      drat        wt      qsec        vs        am      gear      carb\n",
              "mpg   1.000000 -0.852162 -0.847551 -0.776168  0.681172 -0.867659  0.418684  0.664039  0.599832  0.480285 -0.550925\n",
              "cyl  -0.852162  1.000000  0.902033  0.832447 -0.699938  0.782496 -0.591242 -0.810812 -0.522607 -0.492687  0.526988\n",
              "disp -0.847551  0.902033  1.000000  0.790949 -0.710214  0.887980 -0.433698 -0.710416 -0.591227 -0.555569  0.394977\n",
              "hp   -0.776168  0.832447  0.790949  1.000000 -0.448759  0.658748 -0.708223 -0.723097 -0.243204 -0.125704  0.749812\n",
              "drat  0.681172 -0.699938 -0.710214 -0.448759  1.000000 -0.712441  0.091205  0.440278  0.712711  0.699610 -0.090790\n",
              "wt   -0.867659  0.782496  0.887980  0.658748 -0.712441  1.000000 -0.174716 -0.554916 -0.692495 -0.583287  0.427606\n",
              "qsec  0.418684 -0.591242 -0.433698 -0.708223  0.091205 -0.174716  1.000000  0.744535 -0.229861 -0.212682 -0.656249\n",
              "vs    0.664039 -0.810812 -0.710416 -0.723097  0.440278 -0.554916  0.744535  1.000000  0.168345  0.206023 -0.569607\n",
              "am    0.599832 -0.522607 -0.591227 -0.243204  0.712711 -0.692495 -0.229861  0.168345  1.000000  0.794059  0.057534\n",
              "gear  0.480285 -0.492687 -0.555569 -0.125704  0.699610 -0.583287 -0.212682  0.206023  0.794059  1.000000  0.274073\n",
              "carb -0.550925  0.526988  0.394977  0.749812 -0.090790  0.427606 -0.656249 -0.569607  0.057534  0.274073  1.000000"
            ]
          },
          "execution_count": 27,
          "metadata": {},
          "output_type": "execute_result"
        },
        {
          "data": {
            "image/png": "[encoded data removed]",
            "text/plain": [
              "<Figure size 720x720 with 4 Axes>"
            ]
          },
          "metadata": {
            "needs_background": "light"
          },
          "output_type": "display_data"
        }
      ],
      "source": [
        "fig, axs = plt.subplots(2,2)\n",
        "fig.set_size_inches(10,10)\n",
        "axs[0,0].scatter(dfcars['hp'],dfcars['mpg'])\n",
        "axs[0,0].set_title(\"hp\")\n",
        "axs[1,0].scatter(dfcars[\"disp\"],dfcars[\"mpg\"])\n",
        "axs[1,0].set_title(\"disp\")\n",
        "axs[0,1].scatter(dfcars[\"wt\"],dfcars[\"mpg\"])\n",
        "axs[0,1].set_title(\"wt\")\n",
        "axs[1,1].scatter(dfcars[\"qsec\"],dfcars[\"mpg\"])\n",
        "axs[1,1].set_title(\"qsec\")\n",
        "dfcars.corr()\n"
      ]
    },
    {
      "cell_type": "markdown",
      "metadata": {
        "id": "22X_ZHMtwXOh"
      },
      "source": [
        "<div class=\"exercise\"><b>Exercise</b></div>\n",
        "\n",
        "* Use `sklearn` to fit the training data using simple linear regression.\n",
        "* Use the model to make mpg predictions on the test set.  \n",
        "* Plot the data and the prediction.  \n",
        "* Print out the mean squared error for the training set and the test set and compare.\n",
        "\n",
        "**Hints:**\n",
        "* Use the following to perform the analysis:\n",
        "```python\n",
        "from sklearn.linear_model import LinearRegression\n",
        "from sklearn.model_selection import train_test_split\n",
        "from sklearn.metrics import mean_squared_error\n",
        "```"
      ]
    },
    {
      "cell_type": "code",
      "execution_count": 28,
      "metadata": {
        "id": "p77FXxPFwXOh"
      },
      "outputs": [
        {
          "data": {
            "text/html": [
              "<div>\n",
              "<style scoped>\n",
              "    .dataframe tbody tr th:only-of-type {\n",
              "        vertical-align: middle;\n",
              "    }\n",
              "\n",
              "    .dataframe tbody tr th {\n",
              "        vertical-align: top;\n",
              "    }\n",
              "\n",
              "    .dataframe thead th {\n",
              "        text-align: right;\n",
              "    }\n",
              "</style>\n",
              "<table border=\"1\" class=\"dataframe\">\n",
              "  <thead>\n",
              "    <tr style=\"text-align: right;\">\n",
              "      <th></th>\n",
              "      <th>name</th>\n",
              "      <th>mpg</th>\n",
              "      <th>cyl</th>\n",
              "      <th>disp</th>\n",
              "      <th>hp</th>\n",
              "      <th>drat</th>\n",
              "      <th>wt</th>\n",
              "      <th>qsec</th>\n",
              "      <th>vs</th>\n",
              "      <th>am</th>\n",
              "      <th>gear</th>\n",
              "      <th>carb</th>\n",
              "    </tr>\n",
              "  </thead>\n",
              "  <tbody>\n",
              "    <tr>\n",
              "      <th>0</th>\n",
              "      <td>Mazda RX4</td>\n",
              "      <td>21.0</td>\n",
              "      <td>6</td>\n",
              "      <td>160.0</td>\n",
              "      <td>110</td>\n",
              "      <td>3.90</td>\n",
              "      <td>2.620</td>\n",
              "      <td>16.46</td>\n",
              "      <td>0</td>\n",
              "      <td>1</td>\n",
              "      <td>4</td>\n",
              "      <td>4</td>\n",
              "    </tr>\n",
              "    <tr>\n",
              "      <th>1</th>\n",
              "      <td>Mazda RX4 Wag</td>\n",
              "      <td>21.0</td>\n",
              "      <td>6</td>\n",
              "      <td>160.0</td>\n",
              "      <td>110</td>\n",
              "      <td>3.90</td>\n",
              "      <td>2.875</td>\n",
              "      <td>17.02</td>\n",
              "      <td>0</td>\n",
              "      <td>1</td>\n",
              "      <td>4</td>\n",
              "      <td>4</td>\n",
              "    </tr>\n",
              "    <tr>\n",
              "      <th>2</th>\n",
              "      <td>Datsun 710</td>\n",
              "      <td>22.8</td>\n",
              "      <td>4</td>\n",
              "      <td>108.0</td>\n",
              "      <td>93</td>\n",
              "      <td>3.85</td>\n",
              "      <td>2.320</td>\n",
              "      <td>18.61</td>\n",
              "      <td>1</td>\n",
              "      <td>1</td>\n",
              "      <td>4</td>\n",
              "      <td>1</td>\n",
              "    </tr>\n",
              "    <tr>\n",
              "      <th>3</th>\n",
              "      <td>Hornet 4 Drive</td>\n",
              "      <td>21.4</td>\n",
              "      <td>6</td>\n",
              "      <td>258.0</td>\n",
              "      <td>110</td>\n",
              "      <td>3.08</td>\n",
              "      <td>3.215</td>\n",
              "      <td>19.44</td>\n",
              "      <td>1</td>\n",
              "      <td>0</td>\n",
              "      <td>3</td>\n",
              "      <td>1</td>\n",
              "    </tr>\n",
              "    <tr>\n",
              "      <th>4</th>\n",
              "      <td>Hornet Sportabout</td>\n",
              "      <td>18.7</td>\n",
              "      <td>8</td>\n",
              "      <td>360.0</td>\n",
              "      <td>175</td>\n",
              "      <td>3.15</td>\n",
              "      <td>3.440</td>\n",
              "      <td>17.02</td>\n",
              "      <td>0</td>\n",
              "      <td>0</td>\n",
              "      <td>3</td>\n",
              "      <td>2</td>\n",
              "    </tr>\n",
              "  </tbody>\n",
              "</table>\n",
              "</div>"
            ],
            "text/plain": [
              "                name   mpg  cyl   disp   hp  drat     wt   qsec  vs  am  gear  carb\n",
              "0          Mazda RX4  21.0    6  160.0  110  3.90  2.620  16.46   0   1     4     4\n",
              "1      Mazda RX4 Wag  21.0    6  160.0  110  3.90  2.875  17.02   0   1     4     4\n",
              "2         Datsun 710  22.8    4  108.0   93  3.85  2.320  18.61   1   1     4     1\n",
              "3     Hornet 4 Drive  21.4    6  258.0  110  3.08  3.215  19.44   1   0     3     1\n",
              "4  Hornet Sportabout  18.7    8  360.0  175  3.15  3.440  17.02   0   0     3     2"
            ]
          },
          "execution_count": 28,
          "metadata": {},
          "output_type": "execute_result"
        }
      ],
      "source": [
        "from sklearn.linear_model import LinearRegression\n",
        "from sklearn.model_selection import train_test_split\n",
        "from sklearn.metrics import mean_squared_error\n",
        "\n",
        "dfcars = pd.read_csv(\"mtcars.csv\")\n",
        "dfcars = dfcars.rename(columns={\"Unnamed: 0\":\"name\"})\n",
        "\n",
        "dfcars.head()"
      ]
    },
    {
      "cell_type": "code",
      "execution_count": 29,
      "metadata": {
        "id": "NIRjiV87wXOi"
      },
      "outputs": [
        {
          "data": {
            "text/plain": [
              "(25, 1)"
            ]
          },
          "execution_count": 29,
          "metadata": {},
          "output_type": "execute_result"
        }
      ],
      "source": [
        "# TODO: split traindf, testdf\n",
        "traindf, testdf = train_test_split(dfcars, test_size=0.2, random_state=42)\n",
        "\n",
        "# TODO: compute y_train and x_train\n",
        "y_train = traindf[\"mpg\"]\n",
        "y_train= y_train.values.reshape(-1,1)\n",
        "y_train_reshape.shape\n",
        "x_train = traindf[\"wt\"]\n",
        "x_train = x_train.values.reshape(-1,1)\n",
        "x_train.shape"
      ]
    },
    {
      "cell_type": "code",
      "execution_count": 30,
      "metadata": {
        "id": "ifY_aR6kwXOi"
      },
      "outputs": [
        {
          "name": "stdout",
          "output_type": "stream",
          "text": [
            "0.6879761857596277 12.475985659918818\n"
          ]
        }
      ],
      "source": [
        "# TODO: compute y_test and x_test\n",
        "y_test = testdf[\"mpg\"]\n",
        "y_test = y_test.values.reshape(-1,1)\n",
        "x_test = testdf[\"wt\"]\n",
        "x_test = x_test.values.reshape(-1,1)\n",
        "# TODO: create linear model\n",
        "LR = linear_model.LinearRegression()\n",
        "\n",
        "# save regression info (parameters, etc) in results\n",
        "results = LR.fit(x_train, y_train)\n",
        "# TODO: fit linear model\n",
        "# pull the beta parameters out from results\n",
        "beta0_skl = LR.intercept_\n",
        "beta1_skl = LR.coef_[0]\n",
        "# TODO: compute predicted_y\n",
        "predicted_y_train =LR.predict(x_train)\n",
        "predicted_y = LR.predict(x_test)\n",
        "# TODO: compute and r2 score on test data\n",
        "r2_test = LR.score(x_test,y_test)\n",
        "mse_test = mean_squared_error(y_test,predicted_y)\n",
        "print(r2_test,mse_test)"
      ]
    },
    {
      "cell_type": "code",
      "execution_count": 31,
      "metadata": {
        "id": "HCJd11uSwXOi"
      },
      "outputs": [
        {
          "data": {
            "text/plain": [
              "(7.7736977663875155, 1.0)"
            ]
          },
          "execution_count": 31,
          "metadata": {},
          "output_type": "execute_result"
        }
      ],
      "source": [
        "# TODO r2 score on train data, mse on test data, mse on train data and final coefficients\n",
        "r2 = LR.score(x_train,y_train)\n",
        "mse = mean_squared_error(y_train,predicted_y_train)\n",
        "r2_train = LR.score(x_train,predicted_y_train)\n",
        "#mse = mean_squared_error(x_train,y_train)\n",
        "mse,r2_train\n",
        "#print(beta0_skl,beta1_skl)"
      ]
    },
    {
      "cell_type": "code",
      "execution_count": 32,
      "metadata": {},
      "outputs": [
        {
          "data": {
            "text/plain": [
              "Text(0.5, 1.0, 'Train')"
            ]
          },
          "execution_count": 32,
          "metadata": {},
          "output_type": "execute_result"
        },
        {
          "data": {
            "image/png": "[encoded data removed]",
            "text/plain": [
              "<Figure size 720x720 with 2 Axes>"
            ]
          },
          "metadata": {
            "needs_background": "light"
          },
          "output_type": "display_data"
        }
      ],
      "source": [
        "fig, axs = plt.subplots(1,2)\n",
        "fig.set_size_inches(10,10)\n",
        "axs[0].scatter(x=x_test, y=y_test)\n",
        "axs[0].plot(x_test,predicted_y,color='green')\n",
        "axs[0].set_title(\"Test\")\n",
        "axs[1].scatter(x=x_train,y=y_train)\n",
        "axs[1].plot(x_train,predicted_y_train,color='green')\n",
        "axs[1].set_title(\"Train\")\n"
      ]
    },
    {
      "cell_type": "code",
      "execution_count": 33,
      "metadata": {
        "id": "9i4zyF44wXOj"
      },
      "outputs": [
        {
          "data": {
            "text/plain": [
              "Text(0.5, 0, 'x')"
            ]
          },
          "execution_count": 33,
          "metadata": {},
          "output_type": "execute_result"
        },
        {
          "data": {
            "image/png": "[encoded data removed]",
            "text/plain": [
              "<Figure size 432x288 with 1 Axes>"
            ]
          },
          "metadata": {
            "needs_background": "light"
          },
          "output_type": "display_data"
        }
      ],
      "source": [
        "# TODO: plots\n",
        "plt.scatter(x=x_test, y=y_test)\n",
        "plt.plot(x_test,predicted_y,color='green')\n",
        "plt.ylabel(\"y\")\n",
        "plt.xlabel(\"x\")\n"
      ]
    },
    {
      "cell_type": "markdown",
      "metadata": {
        "id": "GvZIrs62rRaf"
      },
      "source": [
        "<div class=\"exercise\"><b>Exercise</b></div>\n",
        "\n",
        "* Use `sklearn` to fit the training data using multiple linear regression\n",
        "* Use the features you want, at least two"
      ]
    },
    {
      "cell_type": "code",
      "execution_count": 34,
      "metadata": {},
      "outputs": [],
      "source": [
        "# TODO: exercise\n",
        "traindf, testdf = train_test_split(dfcars, test_size=0.2, random_state=42)\n",
        "y_train_mul = traindf[\"mpg\"]\n",
        "x_train_mul = np.array(traindf[['wt','disp']])\n",
        "y_train_mul = y_train_mul.values.reshape(-1,1)\n",
        "x_train_mul = x_train_mul.reshape(-1,2)\n",
        "y_test_mul = np.array(testdf.mpg)\n",
        "x_test_mul = np.array(testdf[['wt','disp']])\n",
        "x_test_mul = x_test_mul.reshape(-1,2)\n",
        "y_test_mul = y_test_mul.reshape(-1,1)\n",
        "LR = linear_model.LinearRegression()\n",
        "LR.fit(x_train_mul, y_train_mul)\n",
        "predicted_y_mul = LR.predict(x_test_mul)\n",
        "predicted_y_train_mul = LR.predict(x_train_mul)\n",
        "r2_score = LR.score(x_test_mul, y_test_mul)\n",
        "r2_score_train = LR.score(x_train_mul, y_train_mul)\n",
        "mse_test = mean_squared_error(y_test_mul, predicted_y_mul)\n",
        "mse_train = mean_squared_error(y_train_mul, LR.predict(x_train_mul))\n"
      ]
    },
    {
      "cell_type": "code",
      "execution_count": 35,
      "metadata": {},
      "outputs": [
        {
          "data": {
            "text/plain": [
              "(12.108347972762886, 6.571527776460881)"
            ]
          },
          "execution_count": 35,
          "metadata": {},
          "output_type": "execute_result"
        }
      ],
      "source": [
        "mse_test,mse_train"
      ]
    },
    {
      "cell_type": "code",
      "execution_count": 36,
      "metadata": {},
      "outputs": [
        {
          "data": {
            "text/plain": [
              "(0.6971707870145356, 0.805685193529784)"
            ]
          },
          "execution_count": 36,
          "metadata": {},
          "output_type": "execute_result"
        }
      ],
      "source": [
        "r2_score,r2_score_train"
      ]
    },
    {
      "cell_type": "code",
      "execution_count": 37,
      "metadata": {},
      "outputs": [
        {
          "data": {
            "text/plain": [
              "Text(0.5, 1.0, 'Train')"
            ]
          },
          "execution_count": 37,
          "metadata": {},
          "output_type": "execute_result"
        },
        {
          "data": {
            "image/png": "[encoded data removed]",
            "text/plain": [
              "<Figure size 720x720 with 2 Axes>"
            ]
          },
          "metadata": {
            "needs_background": "light"
          },
          "output_type": "display_data"
        }
      ],
      "source": [
        "fig, axs = plt.subplots(1,2)\n",
        "fig.set_size_inches(10,10)\n",
        "axs[0].scatter(x=x_test_mul[:,1], y=y_test_mul)\n",
        "axs[0].plot(x_test_mul[:,1],predicted_y_mul,color='green')\n",
        "axs[0].set_title(\"Test\")\n",
        "axs[1].scatter(x=x_train_mul[:,1],y=y_train_mul)\n",
        "axs[1].plot(x_train_mul[:,1],predicted_y_train_mul,color='green')\n",
        "axs[1].set_title(\"Train\")"
      ]
    },
    {
      "cell_type": "markdown",
      "metadata": {
        "id": "EHJsvxC2wXOj"
      },
      "source": [
        "## (Bonus) $k$-nearest neighbors"
      ]
    },
    {
      "cell_type": "markdown",
      "metadata": {
        "id": "1ut3EIN3wXOj"
      },
      "source": [
        "Great, so we did a simple linear regression on the car data.\n",
        "\n",
        "Now that you're familiar with `sklearn`, you're ready to do a KNN regression.  Let's use $5$ nearest neighbors."
      ]
    },
    {
      "cell_type": "code",
      "execution_count": 38,
      "metadata": {
        "id": "Istzkyt_wXOj"
      },
      "outputs": [],
      "source": [
        "from sklearn.neighbors import KNeighborsRegressor\n",
        "knnreg = KNeighborsRegressor(n_neighbors=5)"
      ]
    },
    {
      "cell_type": "code",
      "execution_count": 40,
      "metadata": {
        "id": "LD7cp7H4wXOj"
      },
      "outputs": [
        {
          "data": {
            "text/plain": [
              "0.6992188728167332"
            ]
          },
          "execution_count": 40,
          "metadata": {},
          "output_type": "execute_result"
        }
      ],
      "source": [
        "knnreg.fit(x_train, y_train)\n",
        "r2 = knnreg.score(x_test, y_test)\n",
        "r2"
      ]
    },
    {
      "cell_type": "markdown",
      "metadata": {
        "id": "FF9vngcEwXOj"
      },
      "source": [
        "<div class=\"exercise\"><b>Exercise</b></div>\n",
        "What is the $R^{2}$ score on the training set?"
      ]
    },
    {
      "cell_type": "code",
      "execution_count": 42,
      "metadata": {
        "id": "5HvVes2VwXOk"
      },
      "outputs": [
        {
          "data": {
            "text/plain": [
              "0.8718092469742431"
            ]
          },
          "execution_count": 42,
          "metadata": {},
          "output_type": "execute_result"
        }
      ],
      "source": [
        "# TODO: Your code here\n",
        "r2 = knnreg.score(x_train,y_train)\n",
        "r2"
      ]
    },
    {
      "cell_type": "markdown",
      "metadata": {
        "id": "31x_Vi_TwXOk"
      },
      "source": [
        "Lets vary the number of neighbors and see what we get."
      ]
    },
    {
      "cell_type": "code",
      "execution_count": 43,
      "metadata": {
        "id": "kTJ45nNswXOk"
      },
      "outputs": [],
      "source": [
        "regdict = {}\n",
        "# Do a bunch of KNN regressions\n",
        "for k in [1, 2, 4, 6, 8, 10, 15]:\n",
        "    knnreg = KNeighborsRegressor(n_neighbors=k)\n",
        "    knnreg.fit(x_train, y_train)\n",
        "    regdict[k] = knnreg # Store the regressors in a dictionary"
      ]
    },
    {
      "cell_type": "code",
      "execution_count": 44,
      "metadata": {
        "id": "M0fP4fJQwXOk"
      },
      "outputs": [
        {
          "data": {
            "image/png": "[encoded data removed]",
            "text/plain": [
              "<Figure size 720x432 with 1 Axes>"
            ]
          },
          "metadata": {
            "needs_background": "light"
          },
          "output_type": "display_data"
        }
      ],
      "source": [
        "# Now let's plot it all\n",
        "fig, ax = plt.subplots(1,1, figsize=(10,6))\n",
        "\n",
        "ax.plot(dfcars.wt, dfcars.mpg, 'o', label=\"data\")\n",
        "\n",
        "xgrid = np.linspace(np.min(dfcars.wt), np.max(dfcars.wt), 100)\n",
        "for k in [1, 2, 6, 10, 15]:\n",
        "    predictions = regdict[k].predict(xgrid.reshape(100,1))\n",
        "    if k in [1, 6, 15]:\n",
        "        ax.plot(xgrid, predictions, label=\"{}-NN\".format(k))\n",
        "\n",
        "ax.legend();"
      ]
    },
    {
      "cell_type": "markdown",
      "metadata": {
        "id": "hNX9xZwewXOk"
      },
      "source": [
        "Notice how the $1$-NN goes through every point on the training set but utterly fails elsewhere. Lets look at the scores on the training set."
      ]
    },
    {
      "cell_type": "code",
      "execution_count": 49,
      "metadata": {
        "id": "vfRQT9NTwXOk"
      },
      "outputs": [
        {
          "data": {
            "text/plain": [
              "Text(0, 0.5, '$R^{2}$')"
            ]
          },
          "execution_count": 49,
          "metadata": {},
          "output_type": "execute_result"
        },
        {
          "data": {
            "image/png": "[encoded data removed]",
            "text/plain": [
              "<Figure size 864x576 with 1 Axes>"
            ]
          },
          "metadata": {
            "needs_background": "light"
          },
          "output_type": "display_data"
        }
      ],
      "source": [
        "ks = range(1, 15) # Grid of k's\n",
        "scores_train = [] # R2 scores\n",
        "for k in ks:\n",
        "    knnreg = KNeighborsRegressor(n_neighbors=k) # Create KNN model\n",
        "    knnreg.fit(x_train, y_train) # Fit the model to training data\n",
        "    score_train = knnreg.score(x_train, y_train) # Calculate R^2 score\n",
        "    scores_train.append(score_train)\n",
        "\n",
        "# Plot\n",
        "fig, ax = plt.subplots(1,1, figsize=(12,8))\n",
        "ax.plot(ks, scores_train,'o-')\n",
        "ax.set_xlabel(r'$k$')\n",
        "ax.set_ylabel(r'$R^{2}$')"
      ]
    },
    {
      "cell_type": "markdown",
      "metadata": {
        "id": "09l37_iawXOl"
      },
      "source": [
        "Why do we get a perfect $R^2$ at k=1?"
      ]
    },
    {
      "cell_type": "markdown",
      "metadata": {},
      "source": [
        "When k=1 it's takes the closest one, so the difference bewteen him and the response is the same so R2 = 1 "
      ]
    },
    {
      "cell_type": "markdown",
      "metadata": {
        "id": "WRG0jAcZwXOl"
      },
      "source": [
        "<div class=\"exercise\"><b>Exercise (5 min)</b></div>\n",
        "* Make the same plot as above on the *test* set.\n",
        "* What is the best $k$?\n",
        "\n",
        "To me the best k is 2 in this case , we could also take k = 3\n"
      ]
    },
    {
      "cell_type": "code",
      "execution_count": 61,
      "metadata": {
        "id": "xdyY-Tp_wXOl"
      },
      "outputs": [
        {
          "data": {
            "text/plain": [
              "Text(0, 0.5, '$R^{2}$')"
            ]
          },
          "execution_count": 61,
          "metadata": {},
          "output_type": "execute_result"
        },
        {
          "data": {
            "image/png": "[encoded data removed]",
            "text/plain": [
              "<Figure size 864x576 with 1 Axes>"
            ]
          },
          "metadata": {
            "needs_background": "light"
          },
          "output_type": "display_data"
        }
      ],
      "source": [
        "# TODO: Your code here\n",
        "ks = range(1, 8) # Grid of k's\n",
        "scores_train = [] # R2 scores\n",
        "for k in ks:\n",
        "    knnreg = KNeighborsRegressor(n_neighbors=k) # Create KNN model\n",
        "    knnreg.fit(x_test, y_test) # Fit the model to training data\n",
        "    score_train = knnreg.score(x_test, y_test) # Calculate R^2 score\n",
        "    scores_train.append(score_train)\n",
        "\n",
        "# Plot\n",
        "fig, ax = plt.subplots(1,1, figsize=(12,8))\n",
        "ax.plot(ks, scores_train,'o-')\n",
        "ax.set_xlabel(r'$k$')\n",
        "ax.set_ylabel(r'$R^{2}$')"
      ]
    }
  ],
  "metadata": {
    "anaconda-cloud": {},
    "colab": {
      "name": "lab1_Intro_to_ML_SLR.ipynb",
      "provenance": []
    },
    "interpreter": {
      "hash": "916dbcbb3f70747c44a77c7bcd40155683ae19c65e1c03b4aa3499c5328201f1"
    },
    "kernelspec": {
      "display_name": "Python 3.8.10 64-bit",
      "language": "python",
      "name": "python3"
    },
    "language_info": {
      "codemirror_mode": {
        "name": "ipython",
        "version": 3
      },
      "file_extension": ".py",
      "mimetype": "text/x-python",
      "name": "python",
      "nbconvert_exporter": "python",
      "pygments_lexer": "ipython3",
      "version": "3.8.10"
    }
  },
  "nbformat": 4,
  "nbformat_minor": 0
}
