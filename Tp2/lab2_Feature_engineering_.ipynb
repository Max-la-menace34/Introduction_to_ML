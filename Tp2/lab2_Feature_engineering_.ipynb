{
  "cells": [
    {
      "cell_type": "markdown",
      "metadata": {
        "id": "xWLWMzTA35Jp"
      },
      "source": [
        "<img style=\"float: left; padding-right: 10px; width: 45px\" src=\"https://upload.wikimedia.org/wikipedia/fr/b/b1/Logo_EPF.png?raw=true\"> \n",
        "\n",
        "# Introduction to Machine Learning\n",
        "**P2023: Data engineering**<br>\n",
        "\n",
        "\n",
        "## Lab 2:  Feature engineering\n",
        "\n",
        "### First name:\n",
        "### Last name:\n",
        "### Group:\n",
        "\n",
        "\n",
        "---"
      ]
    },
    {
      "cell_type": "markdown",
      "metadata": {
        "id": "ovMCIRlQCfEA"
      },
      "source": [
        "**Challenge definition**\n",
        "\n",
        "The sinking of the Titanic is one of the most infamous shipwrecks in history.\n",
        "\n",
        "On April 15, 1912, during her maiden voyage, the widely considered “unsinkable” RMS Titanic sank after colliding with an iceberg. Unfortunately, there weren’t enough lifeboats for everyone onboard, resulting in the death of 1502 out of 2224 passengers and crew.\n",
        "\n",
        "While there was some element of luck involved in surviving, it seems some groups of people were more likely to survive than others.\n",
        "\n",
        "In this challenge, we ask you to build a predictive model that answers the question: “what sorts of people were more likely to survive?” using passenger data (ie name, age, gender, socio-economic class, etc)."
      ]
    },
    {
      "cell_type": "code",
      "execution_count": 752,
      "metadata": {
        "id": "Nyy1cvfYCnUp"
      },
      "outputs": [
        {
          "data": {
            "text/html": [
              "<div>\n",
              "<style scoped>\n",
              "    .dataframe tbody tr th:only-of-type {\n",
              "        vertical-align: middle;\n",
              "    }\n",
              "\n",
              "    .dataframe tbody tr th {\n",
              "        vertical-align: top;\n",
              "    }\n",
              "\n",
              "    .dataframe thead th {\n",
              "        text-align: right;\n",
              "    }\n",
              "</style>\n",
              "<table border=\"1\" class=\"dataframe\">\n",
              "  <thead>\n",
              "    <tr style=\"text-align: right;\">\n",
              "      <th></th>\n",
              "      <th>Survived</th>\n",
              "      <th>Pclass</th>\n",
              "      <th>Name</th>\n",
              "      <th>Sex</th>\n",
              "      <th>Age</th>\n",
              "      <th>SibSp</th>\n",
              "      <th>Parch</th>\n",
              "      <th>Ticket</th>\n",
              "      <th>Fare</th>\n",
              "      <th>Cabin</th>\n",
              "      <th>Embarked</th>\n",
              "    </tr>\n",
              "    <tr>\n",
              "      <th>PassengerId</th>\n",
              "      <th></th>\n",
              "      <th></th>\n",
              "      <th></th>\n",
              "      <th></th>\n",
              "      <th></th>\n",
              "      <th></th>\n",
              "      <th></th>\n",
              "      <th></th>\n",
              "      <th></th>\n",
              "      <th></th>\n",
              "      <th></th>\n",
              "    </tr>\n",
              "  </thead>\n",
              "  <tbody>\n",
              "    <tr>\n",
              "      <th>1</th>\n",
              "      <td>0</td>\n",
              "      <td>3</td>\n",
              "      <td>Braund, Mr. Owen Harris</td>\n",
              "      <td>male</td>\n",
              "      <td>22.0</td>\n",
              "      <td>1</td>\n",
              "      <td>0</td>\n",
              "      <td>A/5 21171</td>\n",
              "      <td>7.2500</td>\n",
              "      <td>NaN</td>\n",
              "      <td>S</td>\n",
              "    </tr>\n",
              "    <tr>\n",
              "      <th>2</th>\n",
              "      <td>1</td>\n",
              "      <td>1</td>\n",
              "      <td>Cumings, Mrs. John Bradley (Florence Briggs Th...</td>\n",
              "      <td>female</td>\n",
              "      <td>38.0</td>\n",
              "      <td>1</td>\n",
              "      <td>0</td>\n",
              "      <td>PC 17599</td>\n",
              "      <td>71.2833</td>\n",
              "      <td>C85</td>\n",
              "      <td>C</td>\n",
              "    </tr>\n",
              "    <tr>\n",
              "      <th>3</th>\n",
              "      <td>1</td>\n",
              "      <td>3</td>\n",
              "      <td>Heikkinen, Miss. Laina</td>\n",
              "      <td>female</td>\n",
              "      <td>26.0</td>\n",
              "      <td>0</td>\n",
              "      <td>0</td>\n",
              "      <td>STON/O2. 3101282</td>\n",
              "      <td>7.9250</td>\n",
              "      <td>NaN</td>\n",
              "      <td>S</td>\n",
              "    </tr>\n",
              "    <tr>\n",
              "      <th>4</th>\n",
              "      <td>1</td>\n",
              "      <td>1</td>\n",
              "      <td>Futrelle, Mrs. Jacques Heath (Lily May Peel)</td>\n",
              "      <td>female</td>\n",
              "      <td>35.0</td>\n",
              "      <td>1</td>\n",
              "      <td>0</td>\n",
              "      <td>113803</td>\n",
              "      <td>53.1000</td>\n",
              "      <td>C123</td>\n",
              "      <td>S</td>\n",
              "    </tr>\n",
              "    <tr>\n",
              "      <th>5</th>\n",
              "      <td>0</td>\n",
              "      <td>3</td>\n",
              "      <td>Allen, Mr. William Henry</td>\n",
              "      <td>male</td>\n",
              "      <td>35.0</td>\n",
              "      <td>0</td>\n",
              "      <td>0</td>\n",
              "      <td>373450</td>\n",
              "      <td>8.0500</td>\n",
              "      <td>NaN</td>\n",
              "      <td>S</td>\n",
              "    </tr>\n",
              "    <tr>\n",
              "      <th>6</th>\n",
              "      <td>0</td>\n",
              "      <td>3</td>\n",
              "      <td>Moran, Mr. James</td>\n",
              "      <td>male</td>\n",
              "      <td>NaN</td>\n",
              "      <td>0</td>\n",
              "      <td>0</td>\n",
              "      <td>330877</td>\n",
              "      <td>8.4583</td>\n",
              "      <td>NaN</td>\n",
              "      <td>Q</td>\n",
              "    </tr>\n",
              "    <tr>\n",
              "      <th>7</th>\n",
              "      <td>0</td>\n",
              "      <td>1</td>\n",
              "      <td>McCarthy, Mr. Timothy J</td>\n",
              "      <td>male</td>\n",
              "      <td>54.0</td>\n",
              "      <td>0</td>\n",
              "      <td>0</td>\n",
              "      <td>17463</td>\n",
              "      <td>51.8625</td>\n",
              "      <td>E46</td>\n",
              "      <td>S</td>\n",
              "    </tr>\n",
              "    <tr>\n",
              "      <th>8</th>\n",
              "      <td>0</td>\n",
              "      <td>3</td>\n",
              "      <td>Palsson, Master. Gosta Leonard</td>\n",
              "      <td>male</td>\n",
              "      <td>2.0</td>\n",
              "      <td>3</td>\n",
              "      <td>1</td>\n",
              "      <td>349909</td>\n",
              "      <td>21.0750</td>\n",
              "      <td>NaN</td>\n",
              "      <td>S</td>\n",
              "    </tr>\n",
              "    <tr>\n",
              "      <th>9</th>\n",
              "      <td>1</td>\n",
              "      <td>3</td>\n",
              "      <td>Johnson, Mrs. Oscar W (Elisabeth Vilhelmina Berg)</td>\n",
              "      <td>female</td>\n",
              "      <td>27.0</td>\n",
              "      <td>0</td>\n",
              "      <td>2</td>\n",
              "      <td>347742</td>\n",
              "      <td>11.1333</td>\n",
              "      <td>NaN</td>\n",
              "      <td>S</td>\n",
              "    </tr>\n",
              "    <tr>\n",
              "      <th>10</th>\n",
              "      <td>1</td>\n",
              "      <td>2</td>\n",
              "      <td>Nasser, Mrs. Nicholas (Adele Achem)</td>\n",
              "      <td>female</td>\n",
              "      <td>14.0</td>\n",
              "      <td>1</td>\n",
              "      <td>0</td>\n",
              "      <td>237736</td>\n",
              "      <td>30.0708</td>\n",
              "      <td>NaN</td>\n",
              "      <td>C</td>\n",
              "    </tr>\n",
              "  </tbody>\n",
              "</table>\n",
              "</div>"
            ],
            "text/plain": [
              "             Survived  Pclass  \\\n",
              "PassengerId                     \n",
              "1                   0       3   \n",
              "2                   1       1   \n",
              "3                   1       3   \n",
              "4                   1       1   \n",
              "5                   0       3   \n",
              "6                   0       3   \n",
              "7                   0       1   \n",
              "8                   0       3   \n",
              "9                   1       3   \n",
              "10                  1       2   \n",
              "\n",
              "                                                          Name     Sex   Age  \\\n",
              "PassengerId                                                                    \n",
              "1                                      Braund, Mr. Owen Harris    male  22.0   \n",
              "2            Cumings, Mrs. John Bradley (Florence Briggs Th...  female  38.0   \n",
              "3                                       Heikkinen, Miss. Laina  female  26.0   \n",
              "4                 Futrelle, Mrs. Jacques Heath (Lily May Peel)  female  35.0   \n",
              "5                                     Allen, Mr. William Henry    male  35.0   \n",
              "6                                             Moran, Mr. James    male   NaN   \n",
              "7                                      McCarthy, Mr. Timothy J    male  54.0   \n",
              "8                               Palsson, Master. Gosta Leonard    male   2.0   \n",
              "9            Johnson, Mrs. Oscar W (Elisabeth Vilhelmina Berg)  female  27.0   \n",
              "10                         Nasser, Mrs. Nicholas (Adele Achem)  female  14.0   \n",
              "\n",
              "             SibSp  Parch            Ticket     Fare Cabin Embarked  \n",
              "PassengerId                                                          \n",
              "1                1      0         A/5 21171   7.2500   NaN        S  \n",
              "2                1      0          PC 17599  71.2833   C85        C  \n",
              "3                0      0  STON/O2. 3101282   7.9250   NaN        S  \n",
              "4                1      0            113803  53.1000  C123        S  \n",
              "5                0      0            373450   8.0500   NaN        S  \n",
              "6                0      0            330877   8.4583   NaN        Q  \n",
              "7                0      0             17463  51.8625   E46        S  \n",
              "8                3      1            349909  21.0750   NaN        S  \n",
              "9                0      2            347742  11.1333   NaN        S  \n",
              "10               1      0            237736  30.0708   NaN        C  "
            ]
          },
          "execution_count": 752,
          "metadata": {},
          "output_type": "execute_result"
        }
      ],
      "source": [
        "import pandas as pd\n",
        "\n",
        "df = pd.read_csv('titanic.csv', sep = ',')\n",
        "df.set_index('PassengerId', inplace = True, drop = True)\n",
        "df.head(10)"
      ]
    },
    {
      "cell_type": "markdown",
      "metadata": {
        "id": "vJ1xpVfjEvx6"
      },
      "source": [
        "### **Overview of the data**\n",
        "* `PassengerId` is the unique id of the row and it doesn't have any effect on target\n",
        "* `Survived` is the target variable we are trying to predict (**0** or **1**):\n",
        "    - **1 = Survived**\n",
        "    - **0 = Not Survived**\n",
        "* `Pclass` (Passenger Class) is the socio-economic status of the passenger and it is a categorical ordinal feature which has **3** unique values (**1**,  **2 **or **3**):\n",
        "    - **1 = Upper Class**\n",
        "    - **2 = Middle Class**\n",
        "    - **3 = Lower Class**\n",
        "* `Name`, `Sex` and `Age` are self-explanatory\n",
        "* `SibSp` is the total number of the passengers' siblings and spouse\n",
        "* `Parch` is the total number of the passengers' parents and children\n",
        "* `Ticket` is the ticket number of the passenger\n",
        "* `Fare` is the passenger fare\n",
        "* `Cabin` is the cabin number of the passenger\n",
        "* `Embarked` is port of embarkation and it is a categorical feature which has **3** unique values (**C**, **Q** or **S**):\n",
        "    - **C = Cherbourg**\n",
        "    - **Q = Queenstown**\n",
        "    - **S = Southampton**"
      ]
    },
    {
      "cell_type": "code",
      "execution_count": 753,
      "metadata": {
        "id": "A_pIDgj-ERSj"
      },
      "outputs": [
        {
          "name": "stdout",
          "output_type": "stream",
          "text": [
            "<class 'pandas.core.frame.DataFrame'>\n",
            "Int64Index: 891 entries, 1 to 891\n",
            "Data columns (total 11 columns):\n",
            " #   Column    Non-Null Count  Dtype  \n",
            "---  ------    --------------  -----  \n",
            " 0   Survived  891 non-null    int64  \n",
            " 1   Pclass    891 non-null    int64  \n",
            " 2   Name      891 non-null    object \n",
            " 3   Sex       891 non-null    object \n",
            " 4   Age       714 non-null    float64\n",
            " 5   SibSp     891 non-null    int64  \n",
            " 6   Parch     891 non-null    int64  \n",
            " 7   Ticket    891 non-null    object \n",
            " 8   Fare      891 non-null    float64\n",
            " 9   Cabin     204 non-null    object \n",
            " 10  Embarked  889 non-null    object \n",
            "dtypes: float64(2), int64(4), object(5)\n",
            "memory usage: 83.5+ KB\n"
          ]
        }
      ],
      "source": [
        "df.info()"
      ]
    },
    {
      "cell_type": "markdown",
      "metadata": {
        "id": "Qi9Sq_I14mAI"
      },
      "source": [
        "The dataset has some null values that we will need to deal with."
      ]
    },
    {
      "cell_type": "markdown",
      "metadata": {
        "id": "wiyrlNY0GeDN"
      },
      "source": [
        "**First model: Quick and dirty**\n",
        "\n",
        "A very important point in Machine Learning and Data Science is to rapidly build a first model that can serve as baseline. \n",
        "\n",
        "With the first model in place, then we can appreciate adding new features and use new algorithm and see effects on performances.\n",
        "\n",
        "We can see that at least `Fare`, `SibSp` and `Parch` are immidiately usable for modelling. In fact they are int/float and they don't have null values."
      ]
    },
    {
      "cell_type": "code",
      "execution_count": 754,
      "metadata": {
        "id": "WG3mgDlhE7UP"
      },
      "outputs": [],
      "source": [
        "def parse_model_0(X: pd.DataFrame) -> (pd.DataFrame, pd.Series):\n",
        "  target = X.Survived\n",
        "  X = X[['Fare', 'SibSp', 'Parch']]\n",
        "  return X, target"
      ]
    },
    {
      "cell_type": "code",
      "execution_count": 755,
      "metadata": {
        "id": "13BjmGN2Gj62"
      },
      "outputs": [],
      "source": [
        "X, y = parse_model_0(df.copy())"
      ]
    },
    {
      "cell_type": "code",
      "execution_count": 756,
      "metadata": {
        "id": "JTbypja_G9vS"
      },
      "outputs": [
        {
          "data": {
            "text/html": [
              "<div>\n",
              "<style scoped>\n",
              "    .dataframe tbody tr th:only-of-type {\n",
              "        vertical-align: middle;\n",
              "    }\n",
              "\n",
              "    .dataframe tbody tr th {\n",
              "        vertical-align: top;\n",
              "    }\n",
              "\n",
              "    .dataframe thead th {\n",
              "        text-align: right;\n",
              "    }\n",
              "</style>\n",
              "<table border=\"1\" class=\"dataframe\">\n",
              "  <thead>\n",
              "    <tr style=\"text-align: right;\">\n",
              "      <th></th>\n",
              "      <th>Fare</th>\n",
              "      <th>SibSp</th>\n",
              "      <th>Parch</th>\n",
              "    </tr>\n",
              "    <tr>\n",
              "      <th>PassengerId</th>\n",
              "      <th></th>\n",
              "      <th></th>\n",
              "      <th></th>\n",
              "    </tr>\n",
              "  </thead>\n",
              "  <tbody>\n",
              "    <tr>\n",
              "      <th>1</th>\n",
              "      <td>7.2500</td>\n",
              "      <td>1</td>\n",
              "      <td>0</td>\n",
              "    </tr>\n",
              "    <tr>\n",
              "      <th>2</th>\n",
              "      <td>71.2833</td>\n",
              "      <td>1</td>\n",
              "      <td>0</td>\n",
              "    </tr>\n",
              "    <tr>\n",
              "      <th>3</th>\n",
              "      <td>7.9250</td>\n",
              "      <td>0</td>\n",
              "      <td>0</td>\n",
              "    </tr>\n",
              "    <tr>\n",
              "      <th>4</th>\n",
              "      <td>53.1000</td>\n",
              "      <td>1</td>\n",
              "      <td>0</td>\n",
              "    </tr>\n",
              "    <tr>\n",
              "      <th>5</th>\n",
              "      <td>8.0500</td>\n",
              "      <td>0</td>\n",
              "      <td>0</td>\n",
              "    </tr>\n",
              "    <tr>\n",
              "      <th>6</th>\n",
              "      <td>8.4583</td>\n",
              "      <td>0</td>\n",
              "      <td>0</td>\n",
              "    </tr>\n",
              "    <tr>\n",
              "      <th>7</th>\n",
              "      <td>51.8625</td>\n",
              "      <td>0</td>\n",
              "      <td>0</td>\n",
              "    </tr>\n",
              "    <tr>\n",
              "      <th>8</th>\n",
              "      <td>21.0750</td>\n",
              "      <td>3</td>\n",
              "      <td>1</td>\n",
              "    </tr>\n",
              "    <tr>\n",
              "      <th>9</th>\n",
              "      <td>11.1333</td>\n",
              "      <td>0</td>\n",
              "      <td>2</td>\n",
              "    </tr>\n",
              "    <tr>\n",
              "      <th>10</th>\n",
              "      <td>30.0708</td>\n",
              "      <td>1</td>\n",
              "      <td>0</td>\n",
              "    </tr>\n",
              "  </tbody>\n",
              "</table>\n",
              "</div>"
            ],
            "text/plain": [
              "                Fare  SibSp  Parch\n",
              "PassengerId                       \n",
              "1             7.2500      1      0\n",
              "2            71.2833      1      0\n",
              "3             7.9250      0      0\n",
              "4            53.1000      1      0\n",
              "5             8.0500      0      0\n",
              "6             8.4583      0      0\n",
              "7            51.8625      0      0\n",
              "8            21.0750      3      1\n",
              "9            11.1333      0      2\n",
              "10           30.0708      1      0"
            ]
          },
          "execution_count": 756,
          "metadata": {},
          "output_type": "execute_result"
        }
      ],
      "source": [
        "X.head(10)"
      ]
    },
    {
      "cell_type": "markdown",
      "metadata": {
        "id": "JY-AQk-X5ttb"
      },
      "source": [
        "At this stage we need a way to asses model's performance. We will use this function which does a `cross validation`, we will see in details how we validate models in the next lecture, let's just this method for the moment."
      ]
    },
    {
      "cell_type": "code",
      "execution_count": 757,
      "metadata": {
        "id": "WHSK6bD3HD0u"
      },
      "outputs": [],
      "source": [
        "from sklearn.model_selection import cross_val_score\n",
        "import numpy as np\n",
        "\n",
        "def compute_score(clf, X: pd.DataFrame, y: pd.Series) -> float:\n",
        "  xval = cross_val_score(clf, X, y, cv = 5)\n",
        "  return np.mean(xval)"
      ]
    },
    {
      "cell_type": "code",
      "execution_count": 758,
      "metadata": {
        "id": "bHyxvkgTHRsi"
      },
      "outputs": [
        {
          "data": {
            "text/plain": [
              "0.6746092524009792"
            ]
          },
          "execution_count": 758,
          "metadata": {},
          "output_type": "execute_result"
        }
      ],
      "source": [
        "from sklearn.linear_model import LogisticRegression\n",
        "\n",
        "logisticRegression = LogisticRegression()\n",
        "compute_score(logisticRegression, X, y)"
      ]
    },
    {
      "cell_type": "markdown",
      "metadata": {
        "id": "C0J07nGiIjR-"
      },
      "source": [
        "## **Feature engineering** "
      ]
    },
    {
      "cell_type": "markdown",
      "metadata": {
        "id": "YoNPecdnIp0j"
      },
      "source": [
        "**Exploratory data analysis: EDA**\n",
        "\n",
        "EDA is a very important step to detect good features to add to a machine learning model. We will implement a method to plot feature distribution and we will do a simple EDA on a variable.\n",
        "\n",
        "You can re-use this method for the open ended part of the lab."
      ]
    },
    {
      "cell_type": "code",
      "execution_count": 759,
      "metadata": {
        "id": "n0nl1-dOH480"
      },
      "outputs": [],
      "source": [
        "# split data survived and not survived\n",
        "survived = df[df.Survived == 1]\n",
        "dead = df[df.Survived == 0]"
      ]
    },
    {
      "cell_type": "code",
      "execution_count": 760,
      "metadata": {
        "id": "BzALWXyhI4Vv"
      },
      "outputs": [
        {
          "data": {
            "image/png": "[encoded data removed]",
            "text/plain": [
              "<Figure size 432x288 with 1 Axes>"
            ]
          },
          "metadata": {},
          "output_type": "display_data"
        }
      ],
      "source": [
        "import matplotlib.pyplot as plt\n",
        "import seaborn as sns\n",
        "sns.set(style=\"darkgrid\")\n",
        "\n",
        "import warnings\n",
        "warnings.filterwarnings('ignore')\n",
        "\n",
        "# observe distribution of variables of these two populations\n",
        "def plot_hist(feature, bins = 20):\n",
        "  x1 = np.array(dead[feature].dropna())\n",
        "  x2 = np.array(survived[feature].dropna())\n",
        "  plt.hist([x1, x2], label = ['Victim', 'Survived'], bins = bins)\n",
        "  plt.legend(loc = 'upper left')\n",
        "  plt.title('Relative distribution of {}'.format(feature))\n",
        "  plt.show()\n",
        "\n",
        "# exemple on Pclass\n",
        "plot_hist('Pclass')"
      ]
    },
    {
      "cell_type": "markdown",
      "metadata": {
        "id": "bqIvp50_KwvY"
      },
      "source": [
        "**Question :** What conclusions can you draw from this graph ?"
      ]
    },
    {
      "cell_type": "markdown",
      "metadata": {
        "id": "koqb_8GKK83D"
      },
      "source": [
        "**Answer here** : As we can see peaple in 1st class has more chance to survive compara two the third class . So we can say that the more money you have the most likely to survive."
      ]
    },
    {
      "cell_type": "code",
      "execution_count": 761,
      "metadata": {
        "id": "2Vawn-xHJzkZ"
      },
      "outputs": [],
      "source": [
        "# let's use this new variable in the model\n",
        "def parse_model_1(X):\n",
        "  target = X.Survived\n",
        "  class_dummies = pd.get_dummies(X['Pclass'], prefix = 'Pclass')\n",
        "  X = X.join(class_dummies)\n",
        "  to_delete = ['Name', 'Age', 'Sex', 'Cabin', 'Embarked', 'Survived', 'Ticket', 'Pclass']\n",
        "  for column in to_delete:\n",
        "    del X[column]\n",
        "  return X, target"
      ]
    },
    {
      "cell_type": "code",
      "execution_count": 762,
      "metadata": {
        "id": "Jinoy-vQP5D6"
      },
      "outputs": [
        {
          "data": {
            "text/html": [
              "<div>\n",
              "<style scoped>\n",
              "    .dataframe tbody tr th:only-of-type {\n",
              "        vertical-align: middle;\n",
              "    }\n",
              "\n",
              "    .dataframe tbody tr th {\n",
              "        vertical-align: top;\n",
              "    }\n",
              "\n",
              "    .dataframe thead th {\n",
              "        text-align: right;\n",
              "    }\n",
              "</style>\n",
              "<table border=\"1\" class=\"dataframe\">\n",
              "  <thead>\n",
              "    <tr style=\"text-align: right;\">\n",
              "      <th></th>\n",
              "      <th>SibSp</th>\n",
              "      <th>Parch</th>\n",
              "      <th>Fare</th>\n",
              "      <th>Pclass_1</th>\n",
              "      <th>Pclass_2</th>\n",
              "      <th>Pclass_3</th>\n",
              "    </tr>\n",
              "    <tr>\n",
              "      <th>PassengerId</th>\n",
              "      <th></th>\n",
              "      <th></th>\n",
              "      <th></th>\n",
              "      <th></th>\n",
              "      <th></th>\n",
              "      <th></th>\n",
              "    </tr>\n",
              "  </thead>\n",
              "  <tbody>\n",
              "    <tr>\n",
              "      <th>1</th>\n",
              "      <td>1</td>\n",
              "      <td>0</td>\n",
              "      <td>7.2500</td>\n",
              "      <td>0</td>\n",
              "      <td>0</td>\n",
              "      <td>1</td>\n",
              "    </tr>\n",
              "    <tr>\n",
              "      <th>2</th>\n",
              "      <td>1</td>\n",
              "      <td>0</td>\n",
              "      <td>71.2833</td>\n",
              "      <td>1</td>\n",
              "      <td>0</td>\n",
              "      <td>0</td>\n",
              "    </tr>\n",
              "    <tr>\n",
              "      <th>3</th>\n",
              "      <td>0</td>\n",
              "      <td>0</td>\n",
              "      <td>7.9250</td>\n",
              "      <td>0</td>\n",
              "      <td>0</td>\n",
              "      <td>1</td>\n",
              "    </tr>\n",
              "    <tr>\n",
              "      <th>4</th>\n",
              "      <td>1</td>\n",
              "      <td>0</td>\n",
              "      <td>53.1000</td>\n",
              "      <td>1</td>\n",
              "      <td>0</td>\n",
              "      <td>0</td>\n",
              "    </tr>\n",
              "    <tr>\n",
              "      <th>5</th>\n",
              "      <td>0</td>\n",
              "      <td>0</td>\n",
              "      <td>8.0500</td>\n",
              "      <td>0</td>\n",
              "      <td>0</td>\n",
              "      <td>1</td>\n",
              "    </tr>\n",
              "    <tr>\n",
              "      <th>6</th>\n",
              "      <td>0</td>\n",
              "      <td>0</td>\n",
              "      <td>8.4583</td>\n",
              "      <td>0</td>\n",
              "      <td>0</td>\n",
              "      <td>1</td>\n",
              "    </tr>\n",
              "    <tr>\n",
              "      <th>7</th>\n",
              "      <td>0</td>\n",
              "      <td>0</td>\n",
              "      <td>51.8625</td>\n",
              "      <td>1</td>\n",
              "      <td>0</td>\n",
              "      <td>0</td>\n",
              "    </tr>\n",
              "    <tr>\n",
              "      <th>8</th>\n",
              "      <td>3</td>\n",
              "      <td>1</td>\n",
              "      <td>21.0750</td>\n",
              "      <td>0</td>\n",
              "      <td>0</td>\n",
              "      <td>1</td>\n",
              "    </tr>\n",
              "    <tr>\n",
              "      <th>9</th>\n",
              "      <td>0</td>\n",
              "      <td>2</td>\n",
              "      <td>11.1333</td>\n",
              "      <td>0</td>\n",
              "      <td>0</td>\n",
              "      <td>1</td>\n",
              "    </tr>\n",
              "    <tr>\n",
              "      <th>10</th>\n",
              "      <td>1</td>\n",
              "      <td>0</td>\n",
              "      <td>30.0708</td>\n",
              "      <td>0</td>\n",
              "      <td>1</td>\n",
              "      <td>0</td>\n",
              "    </tr>\n",
              "  </tbody>\n",
              "</table>\n",
              "</div>"
            ],
            "text/plain": [
              "             SibSp  Parch     Fare  Pclass_1  Pclass_2  Pclass_3\n",
              "PassengerId                                                     \n",
              "1                1      0   7.2500         0         0         1\n",
              "2                1      0  71.2833         1         0         0\n",
              "3                0      0   7.9250         0         0         1\n",
              "4                1      0  53.1000         1         0         0\n",
              "5                0      0   8.0500         0         0         1\n",
              "6                0      0   8.4583         0         0         1\n",
              "7                0      0  51.8625         1         0         0\n",
              "8                3      1  21.0750         0         0         1\n",
              "9                0      2  11.1333         0         0         1\n",
              "10               1      0  30.0708         0         1         0"
            ]
          },
          "execution_count": 762,
          "metadata": {},
          "output_type": "execute_result"
        }
      ],
      "source": [
        "X, y = parse_model_1(df.copy())\n",
        "X.head(10)"
      ]
    },
    {
      "cell_type": "code",
      "execution_count": 763,
      "metadata": {
        "id": "__igzZRPQkk0"
      },
      "outputs": [
        {
          "data": {
            "text/plain": [
              "0.6937040989266211"
            ]
          },
          "execution_count": 763,
          "metadata": {},
          "output_type": "execute_result"
        }
      ],
      "source": [
        "logisticRegression = LogisticRegression()\n",
        "compute_score(logisticRegression, X, y)"
      ]
    },
    {
      "cell_type": "markdown",
      "metadata": {
        "id": "F8uqNiW8R3Cv"
      },
      "source": [
        "**Weights of each feature**"
      ]
    },
    {
      "cell_type": "code",
      "execution_count": 764,
      "metadata": {
        "id": "l7cpjs53RutQ"
      },
      "outputs": [
        {
          "name": "stdout",
          "output_type": "stream",
          "text": [
            "[[-0.15072925  0.23372253  0.00675618  0.37803728  0.10814039 -0.84382307]]\n"
          ]
        }
      ],
      "source": [
        "logisticRegression = LogisticRegression()\n",
        "logisticRegression.fit(X, y)\n",
        "print(logisticRegression.coef_)"
      ]
    },
    {
      "cell_type": "markdown",
      "metadata": {
        "id": "t8mRHms3CfC2"
      },
      "source": [
        "Let's implement a method to plot feature weights in case of Logistic Regression"
      ]
    },
    {
      "cell_type": "code",
      "execution_count": 765,
      "metadata": {
        "id": "Ydq5DzT_SBmn"
      },
      "outputs": [
        {
          "name": "stdout",
          "output_type": "stream",
          "text": [
            "{\n",
            "  \"SibSp\": -0.1507292521659343,\n",
            "  \"Parch\": 0.2337225258372556,\n",
            "  \"Fare\": 0.00675617705461451,\n",
            "  \"Pclass_1\": 0.3780372753156653,\n",
            "  \"Pclass_2\": 0.10814038815182453,\n",
            "  \"Pclass_3\": -0.8438230719721483\n",
            "}\n"
          ]
        },
        {
          "data": {
            "image/png": "[encoded data removed]",
            "text/plain": [
              "<Figure size 432x288 with 1 Axes>"
            ]
          },
          "metadata": {},
          "output_type": "display_data"
        }
      ],
      "source": [
        "\n",
        "\n",
        "def plot_var_weights_logistic_regression(X, y):\n",
        "  lr = LogisticRegression()\n",
        "  lr.fit(X, y)\n",
        "\n",
        "  columns = np.array(X.columns)\n",
        "  weights = np.array(lr.coef_[0])\n",
        "\n",
        "  # weights dictonary sorted by absolute value\n",
        "  weights_dict = dict(zip(columns, weights))\n",
        "  print(json.dumps(weights_dict, indent = 2))\n",
        "\n",
        "  # plot the weights\n",
        "  plt.bar(columns, weights)\n",
        "  plt.title('Feature importances')\n",
        "  plt.show()\n",
        "\n",
        "plot_var_weights_logistic_regression(X, y)"
      ]
    },
    {
      "cell_type": "markdown",
      "metadata": {
        "id": "aj41EblzVT5Y"
      },
      "source": [
        "**Interpretation of weights in Linear Models**\n",
        "\n",
        "\n",
        "*   A positive weight increases the probability of `target` = 1 (survived)\n",
        "*   A negative weight decreases the probability of surviving\n",
        "*   When a weight is close to zero, it means that the correspond feature doesn't influence the predictio\n",
        "\n",
        "**Conclusion for our model**\n",
        "`Pclass_1` and `Pclass_3` seem very important in our model in comparison to `Pclass_2`. It shows also that Fare is not important for our prediction using a linear model.\n",
        "\n",
        "<br>\n",
        "\n",
        "Let's continue with other variables"
      ]
    },
    {
      "cell_type": "markdown",
      "metadata": {
        "id": "DEH0rjzmZj3Y"
      },
      "source": [
        "###**Children and women first !**\n",
        "\n",
        "The history of the titanic reports that they were different rescue policies led by officer Charles Lightholler and officer William Murdoch. They didn't have the same interpretation of \"children and women first\". \n",
        "\n",
        "In fact, Murdoch, starboard side, was giving the priority but not the exclusivity to children and women. He let men onboard the rescue boats to fill the boards instead of waiting for the arrival of additional children and women.\n",
        "\n",
        "On the other side, Lightholler, refused all men and prefered waiting for children and women to fill the lifeboats. Unfortunately, this second strategy was not optimal as they were only 500 children and women but they were 1200 seats on the rescue boats...\n",
        "\n",
        "\n"
      ]
    },
    {
      "cell_type": "markdown",
      "metadata": {
        "id": "v83SW3uClH3N"
      },
      "source": [
        "**Exercise**\n",
        "\n",
        "Do statistics on `Sex` and `Age` features and then include them in a LogisticRegression model. Have a look at the score and feature importances, then interpret the results.\n",
        "\n",
        "Nota : The `Age` variable has missing values, at this stage you can just fill null values with the median age. We will see later how we can better fill those missing values."
      ]
    },
    {
      "cell_type": "code",
      "execution_count": 766,
      "metadata": {
        "id": "TsLM3O_0SQR0"
      },
      "outputs": [],
      "source": [
        "#### CODE HERE ####\n",
        "X[\"Is_child\"]= df[\"Age\"].fillna(df[\"Age\"].median())\n",
        "X[\"Is_child\"] = X[\"Is_child\"].astype(str).astype(\"float64\")"
      ]
    },
    {
      "cell_type": "markdown",
      "metadata": {
        "id": "CAmAf72lluG2"
      },
      "source": [
        "**Exercise**\n",
        "\n",
        "Use `plot_hist` method on `Age` and then define a new feature `is_child` when `Age` is less than some threshold. Does it improve the model's score ?"
      ]
    },
    {
      "cell_type": "code",
      "execution_count": null,
      "metadata": {},
      "outputs": [],
      "source": []
    },
    {
      "cell_type": "code",
      "execution_count": 767,
      "metadata": {},
      "outputs": [],
      "source": [
        "X[\"Is_child\"]=np.array([1 if val<14.0 else 0 for val in X[\"Is_child\"]])\n",
        "X[\"Sex\"]=np.array([1 if val==\"male\" else 0 for val in df[\"Sex\"]])"
      ]
    },
    {
      "cell_type": "code",
      "execution_count": 768,
      "metadata": {},
      "outputs": [],
      "source": [
        "#Norm fare \n",
        "\n",
        "x_max = X[\"Fare\"].max()\n",
        "x_min = X[\"Fare\"].min()\n",
        "X[\"Fare\"]=(X[\"Fare\"]-x_min)/(x_max-x_min)\n"
      ]
    },
    {
      "cell_type": "code",
      "execution_count": 769,
      "metadata": {
        "id": "Nk6MLbaVxL5p"
      },
      "outputs": [
        {
          "data": {
            "image/png": "[encoded data removed]",
            "text/plain": [
              "<Figure size 432x288 with 1 Axes>"
            ]
          },
          "metadata": {},
          "output_type": "display_data"
        }
      ],
      "source": [
        "#### CODE HERE ####\n",
        "# plot\n",
        "plot_hist(\"Age\")\n"
      ]
    },
    {
      "cell_type": "code",
      "execution_count": 770,
      "metadata": {},
      "outputs": [
        {
          "name": "stdout",
          "output_type": "stream",
          "text": [
            "{\n",
            "  \"SibSp\": -0.4058180575943752,\n",
            "  \"Parch\": -0.20426631407809662,\n",
            "  \"Fare\": 1.0354470047267117,\n",
            "  \"Pclass_1\": 0.8817022626810029,\n",
            "  \"Pclass_2\": 0.048893971067529136,\n",
            "  \"Pclass_3\": -0.9301736637408072,\n",
            "  \"Is_child\": 1.8678374540451828,\n",
            "  \"Sex\": -2.732357244120858\n",
            "}\n"
          ]
        },
        {
          "data": {
            "image/png": "[encoded data removed]",
            "text/plain": [
              "<Figure size 432x288 with 1 Axes>"
            ]
          },
          "metadata": {},
          "output_type": "display_data"
        }
      ],
      "source": [
        "def plot_var_weights_logistic_regression(X, y):\n",
        "  lr = LogisticRegression()\n",
        "  lr.fit(X, y)\n",
        "\n",
        "  columns = np.array(X.columns)\n",
        "  weights = np.array(lr.coef_[0])\n",
        "\n",
        "  # weights dictonary sorted by absolute value\n",
        "  weights_dict = dict(zip(columns, weights))\n",
        "  print(json.dumps(weights_dict, indent = 2))\n",
        "\n",
        "  # plot the weights\n",
        "  plt.bar(columns, weights)\n",
        "  plt.title('Feature importances')\n",
        "  plt.show()\n",
        "\n",
        "plot_var_weights_logistic_regression(X, y)"
      ]
    },
    {
      "cell_type": "code",
      "execution_count": 771,
      "metadata": {},
      "outputs": [
        {
          "data": {
            "text/plain": [
              "0.8035904839620865"
            ]
          },
          "execution_count": 771,
          "metadata": {},
          "output_type": "execute_result"
        }
      ],
      "source": [
        "logisticRegression = LogisticRegression()\n",
        "\n",
        "compute_score(logisticRegression, X, y)"
      ]
    },
    {
      "cell_type": "code",
      "execution_count": 772,
      "metadata": {
        "id": "uQYnWBbRliCC"
      },
      "outputs": [],
      "source": [
        "#### CODE HERE ####\n",
        "\n"
      ]
    },
    {
      "cell_type": "markdown",
      "metadata": {
        "id": "Qcrx7ADOt6Hs"
      },
      "source": [
        "**Conclusion**\n",
        "\n",
        "What we just did with the new feature `is_child` is add non-linearity that a linear model like Logistic Regression can't capture without our help.\n",
        "\n",
        "Let's try non-linear models. **However, remember that creating new features manually is still the best method to get the best results and performances out of models.**"
      ]
    },
    {
      "cell_type": "markdown",
      "metadata": {
        "id": "H2zYypuPmQlN"
      },
      "source": [
        "**Exercise : Random Forest to the rescue**\n",
        "\n",
        "Use a Random Forest classifier with the features we defined above but do not use `is_child` yet."
      ]
    },
    {
      "cell_type": "code",
      "execution_count": 773,
      "metadata": {
        "id": "8H5bSx37mP0D"
      },
      "outputs": [
        {
          "data": {
            "text/plain": [
              "0.8014123407193521"
            ]
          },
          "execution_count": 773,
          "metadata": {},
          "output_type": "execute_result"
        }
      ],
      "source": [
        "#### CODE HERE ####\n",
        "from sklearn.ensemble import RandomForestClassifier\n",
        "Rfc= RandomForestClassifier(75,bootstrap=True,random_state=38)\n",
        "X_copy = X\n",
        "del X_copy[\"Is_child\"]\n",
        "compute_score(Rfc, X_copy, y)\n"
      ]
    },
    {
      "cell_type": "markdown",
      "metadata": {
        "id": "6tHpxu0OrWH2"
      },
      "source": [
        "As you may know, when using Decision Tree, we no longer have the weights of variables which is not ideal and hurts our model's interpretability.\n",
        "\n",
        "However we can use a feature importances method that comes with Random Forst classifiers in sklearn. It computes the relative importance of features. This method should be added to your toolbox, it will allow you to somewhat interpret the results of your Random Forest.\n",
        "\n",
        "**Exercise**\n",
        "\n",
        "Compute feature importances of your Random Classifier model and interpret the results. How does it compare to the linear model ? Do both models select the same features as important ? Why ?\n",
        "\n",
        "You can find documentation here https://mljar.com/blog/feature-importance-in-random-forest/"
      ]
    },
    {
      "cell_type": "code",
      "execution_count": 774,
      "metadata": {
        "id": "TwRiBhABnMwG"
      },
      "outputs": [
        {
          "data": {
            "text/plain": [
              "<BarContainer object of 8 artists>"
            ]
          },
          "execution_count": 774,
          "metadata": {},
          "output_type": "execute_result"
        },
        {
          "data": {
            "image/png": "[encoded data removed]",
            "text/plain": [
              "<Figure size 432x288 with 1 Axes>"
            ]
          },
          "metadata": {},
          "output_type": "display_data"
        }
      ],
      "source": [
        "#### CODE HERE ####\n",
        "from sklearn.ensemble import RandomForestClassifier\n",
        "Rfc= RandomForestClassifier(75,bootstrap=True,random_state=38)\n",
        "X[\"Is_child\"]= np.array([1 if val<14.0 else 0 for val in df[\"Age\"]])\n",
        "Rfc.fit(X,y)\n",
        "compute_score(Rfc, X, y)\n",
        "#plt.barh(X.feature_names, Rfc.feature_importances_)\n",
        "plt.barh(X.columns, Rfc.feature_importances_)\n"
      ]
    },
    {
      "cell_type": "markdown",
      "metadata": {
        "id": "1CEkUVsZyow3"
      },
      "source": [
        "**Open ended question**\n",
        "\n",
        "Use other variables using techniques we have seen in the course and some creativity on existing variables.\n",
        "\n",
        "Do EDA on variables to argument your choices, use plots, correlation etc...\n"
      ]
    },
    {
      "cell_type": "code",
      "execution_count": 775,
      "metadata": {
        "id": "RXvrrmrMtQm_"
      },
      "outputs": [
        {
          "data": {
            "text/plain": [
              "0.8170924612390935"
            ]
          },
          "execution_count": 775,
          "metadata": {},
          "output_type": "execute_result"
        },
        {
          "data": {
            "image/png": "[encoded data removed]",
            "text/plain": [
              "<Figure size 432x288 with 1 Axes>"
            ]
          },
          "metadata": {},
          "output_type": "display_data"
        }
      ],
      "source": [
        "#### CODE HERE ####\n",
        "X[\"Embarked\"] = df[\"Embarked\"]\n",
        "class_dummies = pd.get_dummies(X['Embarked'], prefix = 'Embarked')\n",
        "X = X.join(class_dummies)\n",
        "del X[\"Embarked\"]\n",
        "X[\"Is_child\"]= np.array([1 if val<14.0 else 0 for val in df[\"Age\"]])\n",
        "Rfc= RandomForestClassifier(75,bootstrap=True,random_state=38)\n",
        "Rfc.fit(X,y)\n",
        "\n",
        "#plt.barh(X.feature_names, Rfc.feature_importances_)\n",
        "plt.barh(X.columns, Rfc.feature_importances_)\n",
        "compute_score(Rfc, X, y)"
      ]
    }
  ],
  "metadata": {
    "colab": {
      "name": "lab2_Feature_engineering_.ipynb",
      "provenance": []
    },
    "interpreter": {
      "hash": "916dbcbb3f70747c44a77c7bcd40155683ae19c65e1c03b4aa3499c5328201f1"
    },
    "kernelspec": {
      "display_name": "Python 3.8.10 64-bit",
      "language": "python",
      "name": "python3"
    },
    "language_info": {
      "codemirror_mode": {
        "name": "ipython",
        "version": 3
      },
      "file_extension": ".py",
      "mimetype": "text/x-python",
      "name": "python",
      "nbconvert_exporter": "python",
      "pygments_lexer": "ipython3",
      "version": "3.8.10"
    }
  },
  "nbformat": 4,
  "nbformat_minor": 0
}
