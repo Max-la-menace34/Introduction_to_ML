{
  "cells": [
    {
      "cell_type": "markdown",
      "metadata": {
        "_cell_guid": "e6335977-1dcb-a5bc-4856-184dd7bce3f9",
        "id": "rkWfXyKCamyX"
      },
      "source": [
        "\n",
        "<img style=\"float: left; padding-right: 10px; width: 45px\" src=\"https://upload.wikimedia.org/wikipedia/fr/b/b1/Logo_EPF.png?raw=true\"> \n",
        "\n",
        "# Introduction to Machine Learning\n",
        "**P2023: Data engineering**<br>\n",
        "\n",
        "\n",
        "## Lab 3:  Regularized linear models\n",
        "\n",
        "### First name: Maxime\n",
        "### Last name: Raillat\n",
        "### Group: A1\n",
        "\n",
        "\n",
        "---"
      ]
    },
    {
      "cell_type": "markdown",
      "metadata": {
        "id": "Qgv1BaIcXNkx"
      },
      "source": [
        "# Introduction\n",
        "As we have seen during the course, **overfitting** is one of the most frequent issues we have to deal with while working on machine learning tasks. \n",
        "\n",
        "Overfitting refers to the scenario where a machine learning model can’t **generalize** or fit well on unseen data. It refers to a modeling error that occurs when a function corresponds too closely to a dataset. As a result, overfitting models may fail to fit additional data, and this may affect the accuracy of predicting future observations.\n",
        "\n",
        "One way to avoid overfitting is to use **regularization**. It consists of adding a **penalty** term to the loss function we want to minimize. By doing this, we penalize the learning of complex models and encourage the learning of simpler models.\n",
        "\n",
        "Another way of avoiding overfitting is to use proper **cross-validation** techniques in order to have an accurate estimation of the **generalization power** of our model (i.e how well it will perform on unseen data)\n",
        "\n",
        "In this lab, we'll look at Ridge and Lasso regularization techniques for a logistic regression model. We will also see why it's important to use cross-validation when tuning the model's hyperparameters."
      ]
    },
    {
      "cell_type": "code",
      "execution_count": 1,
      "metadata": {
        "_cell_guid": "0d706811-b70c-aeab-a78b-3c7abd9978d3",
        "id": "yFwAOgdDamyZ"
      },
      "outputs": [
        {
          "name": "stderr",
          "output_type": "stream",
          "text": [
            "/tmp/ipykernel_81970/260421466.py:8: DeprecationWarning: Please use `pearsonr` from the `scipy.stats` namespace, the `scipy.stats.stats` namespace is deprecated.\n",
            "  from scipy.stats.stats import pearsonr\n"
          ]
        }
      ],
      "source": [
        "import pandas as pd\n",
        "import numpy as np\n",
        "import seaborn as sns\n",
        "import matplotlib\n",
        "\n",
        "import matplotlib.pyplot as plt\n",
        "from scipy.stats import skew\n",
        "from scipy.stats.stats import pearsonr\n",
        "from sklearn.model_selection import train_test_split\n",
        "from sklearn.metrics import mean_squared_error\n",
        "from sklearn.linear_model import Ridge, RidgeCV, ElasticNet, LassoCV, LassoLarsCV\n",
        "from sklearn.model_selection import cross_val_score\n",
        "\n",
        "%config InlineBackend.figure_format = 'retina' #set 'png' here when working on notebook\n",
        "%matplotlib inline"
      ]
    },
    {
      "cell_type": "markdown",
      "metadata": {
        "id": "T58ve7EIaD3J"
      },
      "source": [
        "##Dataset description\n",
        "We will use [The Ames Housing dataset](http://jse.amstat.org/v19n3/decock.pdf) which is describing the sale of individual residential property in Ames, Iowa from 2006 to 2010. The data set contains 2930 observations and a large number of explanatory variables (23 nominal, 23 ordinal, 14 discrete, and 20 continuous) involved in assessing home values.\n",
        "\n",
        "Take a look at the data_description.txt file to see a description of each of these explanatory variables."
      ]
    },
    {
      "cell_type": "code",
      "execution_count": 12,
      "metadata": {
        "_cell_guid": "603292c1-44b7-d72a-5468-e6782f311603",
        "id": "KBo6U4_uamya"
      },
      "outputs": [],
      "source": [
        "# read in data\n",
        "data = pd.read_csv(\"data.csv\")\n"
      ]
    },
    {
      "cell_type": "code",
      "execution_count": 6,
      "metadata": {
        "colab": {
          "base_uri": "https://localhost:8080/"
        },
        "id": "L3TPbTcHtOVq",
        "outputId": "197f79ed-1075-4f01-9972-f5e8f1c7837d"
      },
      "outputs": [
        {
          "data": {
            "text/plain": [
              "1460"
            ]
          },
          "execution_count": 6,
          "metadata": {},
          "output_type": "execute_result"
        }
      ],
      "source": [
        "# show the data size\n",
        "data.shape[0]\n"
      ]
    },
    {
      "cell_type": "code",
      "execution_count": 10,
      "metadata": {
        "id": "vSKOUdJtsxvg"
      },
      "outputs": [],
      "source": [
        "# split to 80% train data and 20% test data\n",
        "y = data.SalePrice\n",
        "X = data.drop('SalePrice', axis=1)\n",
        "X_train, X_test, y_train, y_test = train_test_split(X, y, test_size=0.20, random_state=27)"
      ]
    },
    {
      "cell_type": "code",
      "execution_count": 11,
      "metadata": {
        "_cell_guid": "d646bb1b-56c4-9b45-d5d4-27095f61b1c0",
        "colab": {
          "base_uri": "https://localhost:8080/",
          "height": 253
        },
        "id": "_-Ng6Ibsamyb",
        "outputId": "276b00a8-c0b4-4fb7-f2f1-bd8f7aaeed09"
      },
      "outputs": [
        {
          "data": {
            "text/html": [
              "<div>\n",
              "<style scoped>\n",
              "    .dataframe tbody tr th:only-of-type {\n",
              "        vertical-align: middle;\n",
              "    }\n",
              "\n",
              "    .dataframe tbody tr th {\n",
              "        vertical-align: top;\n",
              "    }\n",
              "\n",
              "    .dataframe thead th {\n",
              "        text-align: right;\n",
              "    }\n",
              "</style>\n",
              "<table border=\"1\" class=\"dataframe\">\n",
              "  <thead>\n",
              "    <tr style=\"text-align: right;\">\n",
              "      <th></th>\n",
              "      <th>Id</th>\n",
              "      <th>MSSubClass</th>\n",
              "      <th>MSZoning</th>\n",
              "      <th>LotFrontage</th>\n",
              "      <th>LotArea</th>\n",
              "      <th>Street</th>\n",
              "      <th>Alley</th>\n",
              "      <th>LotShape</th>\n",
              "      <th>LandContour</th>\n",
              "      <th>Utilities</th>\n",
              "      <th>...</th>\n",
              "      <th>PoolArea</th>\n",
              "      <th>PoolQC</th>\n",
              "      <th>Fence</th>\n",
              "      <th>MiscFeature</th>\n",
              "      <th>MiscVal</th>\n",
              "      <th>MoSold</th>\n",
              "      <th>YrSold</th>\n",
              "      <th>SaleType</th>\n",
              "      <th>SaleCondition</th>\n",
              "      <th>SalePrice</th>\n",
              "    </tr>\n",
              "  </thead>\n",
              "  <tbody>\n",
              "    <tr>\n",
              "      <th>0</th>\n",
              "      <td>1</td>\n",
              "      <td>60</td>\n",
              "      <td>RL</td>\n",
              "      <td>65.0</td>\n",
              "      <td>8450</td>\n",
              "      <td>Pave</td>\n",
              "      <td>NaN</td>\n",
              "      <td>Reg</td>\n",
              "      <td>Lvl</td>\n",
              "      <td>AllPub</td>\n",
              "      <td>...</td>\n",
              "      <td>0</td>\n",
              "      <td>NaN</td>\n",
              "      <td>NaN</td>\n",
              "      <td>NaN</td>\n",
              "      <td>0</td>\n",
              "      <td>2</td>\n",
              "      <td>2008</td>\n",
              "      <td>WD</td>\n",
              "      <td>Normal</td>\n",
              "      <td>208500</td>\n",
              "    </tr>\n",
              "    <tr>\n",
              "      <th>1</th>\n",
              "      <td>2</td>\n",
              "      <td>20</td>\n",
              "      <td>RL</td>\n",
              "      <td>80.0</td>\n",
              "      <td>9600</td>\n",
              "      <td>Pave</td>\n",
              "      <td>NaN</td>\n",
              "      <td>Reg</td>\n",
              "      <td>Lvl</td>\n",
              "      <td>AllPub</td>\n",
              "      <td>...</td>\n",
              "      <td>0</td>\n",
              "      <td>NaN</td>\n",
              "      <td>NaN</td>\n",
              "      <td>NaN</td>\n",
              "      <td>0</td>\n",
              "      <td>5</td>\n",
              "      <td>2007</td>\n",
              "      <td>WD</td>\n",
              "      <td>Normal</td>\n",
              "      <td>181500</td>\n",
              "    </tr>\n",
              "    <tr>\n",
              "      <th>2</th>\n",
              "      <td>3</td>\n",
              "      <td>60</td>\n",
              "      <td>RL</td>\n",
              "      <td>68.0</td>\n",
              "      <td>11250</td>\n",
              "      <td>Pave</td>\n",
              "      <td>NaN</td>\n",
              "      <td>IR1</td>\n",
              "      <td>Lvl</td>\n",
              "      <td>AllPub</td>\n",
              "      <td>...</td>\n",
              "      <td>0</td>\n",
              "      <td>NaN</td>\n",
              "      <td>NaN</td>\n",
              "      <td>NaN</td>\n",
              "      <td>0</td>\n",
              "      <td>9</td>\n",
              "      <td>2008</td>\n",
              "      <td>WD</td>\n",
              "      <td>Normal</td>\n",
              "      <td>223500</td>\n",
              "    </tr>\n",
              "    <tr>\n",
              "      <th>3</th>\n",
              "      <td>4</td>\n",
              "      <td>70</td>\n",
              "      <td>RL</td>\n",
              "      <td>60.0</td>\n",
              "      <td>9550</td>\n",
              "      <td>Pave</td>\n",
              "      <td>NaN</td>\n",
              "      <td>IR1</td>\n",
              "      <td>Lvl</td>\n",
              "      <td>AllPub</td>\n",
              "      <td>...</td>\n",
              "      <td>0</td>\n",
              "      <td>NaN</td>\n",
              "      <td>NaN</td>\n",
              "      <td>NaN</td>\n",
              "      <td>0</td>\n",
              "      <td>2</td>\n",
              "      <td>2006</td>\n",
              "      <td>WD</td>\n",
              "      <td>Abnorml</td>\n",
              "      <td>140000</td>\n",
              "    </tr>\n",
              "    <tr>\n",
              "      <th>4</th>\n",
              "      <td>5</td>\n",
              "      <td>60</td>\n",
              "      <td>RL</td>\n",
              "      <td>84.0</td>\n",
              "      <td>14260</td>\n",
              "      <td>Pave</td>\n",
              "      <td>NaN</td>\n",
              "      <td>IR1</td>\n",
              "      <td>Lvl</td>\n",
              "      <td>AllPub</td>\n",
              "      <td>...</td>\n",
              "      <td>0</td>\n",
              "      <td>NaN</td>\n",
              "      <td>NaN</td>\n",
              "      <td>NaN</td>\n",
              "      <td>0</td>\n",
              "      <td>12</td>\n",
              "      <td>2008</td>\n",
              "      <td>WD</td>\n",
              "      <td>Normal</td>\n",
              "      <td>250000</td>\n",
              "    </tr>\n",
              "  </tbody>\n",
              "</table>\n",
              "<p>5 rows × 81 columns</p>\n",
              "</div>"
            ],
            "text/plain": [
              "   Id  MSSubClass MSZoning  LotFrontage  LotArea Street Alley LotShape  \\\n",
              "0   1          60       RL         65.0     8450   Pave   NaN      Reg   \n",
              "1   2          20       RL         80.0     9600   Pave   NaN      Reg   \n",
              "2   3          60       RL         68.0    11250   Pave   NaN      IR1   \n",
              "3   4          70       RL         60.0     9550   Pave   NaN      IR1   \n",
              "4   5          60       RL         84.0    14260   Pave   NaN      IR1   \n",
              "\n",
              "  LandContour Utilities  ... PoolArea PoolQC Fence MiscFeature MiscVal MoSold  \\\n",
              "0         Lvl    AllPub  ...        0    NaN   NaN         NaN       0      2   \n",
              "1         Lvl    AllPub  ...        0    NaN   NaN         NaN       0      5   \n",
              "2         Lvl    AllPub  ...        0    NaN   NaN         NaN       0      9   \n",
              "3         Lvl    AllPub  ...        0    NaN   NaN         NaN       0      2   \n",
              "4         Lvl    AllPub  ...        0    NaN   NaN         NaN       0     12   \n",
              "\n",
              "  YrSold  SaleType  SaleCondition  SalePrice  \n",
              "0   2008        WD         Normal     208500  \n",
              "1   2007        WD         Normal     181500  \n",
              "2   2008        WD         Normal     223500  \n",
              "3   2006        WD        Abnorml     140000  \n",
              "4   2008        WD         Normal     250000  \n",
              "\n",
              "[5 rows x 81 columns]"
            ]
          },
          "execution_count": 11,
          "metadata": {},
          "output_type": "execute_result"
        }
      ],
      "source": [
        "# have a look at the data\n",
        "data.head()"
      ]
    },
    {
      "cell_type": "markdown",
      "metadata": {
        "_cell_guid": "29fa13df-61e8-b0c2-b3a7-ea92bffd4396",
        "id": "df-LqxvYamyc"
      },
      "source": [
        "###Data preprocessing: \n",
        "\n",
        "**Exercise :** Plot the distribution of the price variable"
      ]
    },
    {
      "cell_type": "code",
      "execution_count": 14,
      "metadata": {
        "_cell_guid": "9b5a3e5b-f683-3fd2-7269-4068975bbe42",
        "id": "lHAzBUk_amyd"
      },
      "outputs": [
        {
          "data": {
            "text/plain": [
              "array([[<AxesSubplot:title={'center':'price'}>]], dtype=object)"
            ]
          },
          "execution_count": 14,
          "metadata": {},
          "output_type": "execute_result"
        },
        {
          "data": {
            "image/png": "[encoded data removed]",
            "text/plain": [
              "<Figure size 864x432 with 1 Axes>"
            ]
          },
          "metadata": {
            "image/png": {
              "height": 372,
              "width": 710
            },
            "needs_background": "light"
          },
          "output_type": "display_data"
        }
      ],
      "source": [
        "matplotlib.rcParams['figure.figsize'] = (12.0, 6.0)\n",
        "prices = pd.DataFrame({\"price\":data[\"SalePrice\"]})\n",
        "prices.hist()"
      ]
    },
    {
      "cell_type": "markdown",
      "metadata": {
        "id": "JIOkrrU_bZik"
      },
      "source": [
        "We can see that the distribution is highly skewed to the left. As we have seen in the feature engineering class, one way to deal with the skewness is to apply a log transformation to be as close to a normal distribution as possible.\n",
        "\n",
        "**Exercise :** Plot the distribution of the log of the price variable, you can use the log1p numpy function."
      ]
    },
    {
      "cell_type": "code",
      "execution_count": 15,
      "metadata": {
        "id": "xAmc_2VzxFEj"
      },
      "outputs": [
        {
          "data": {
            "text/plain": [
              "array([[<AxesSubplot:title={'center':'price'}>]], dtype=object)"
            ]
          },
          "execution_count": 15,
          "metadata": {},
          "output_type": "execute_result"
        },
        {
          "data": {
            "image/png": "[encoded data removed]",
            "text/plain": [
              "<Figure size 864x432 with 1 Axes>"
            ]
          },
          "metadata": {
            "image/png": {
              "height": 372,
              "width": 710
            },
            "needs_background": "light"
          },
          "output_type": "display_data"
        }
      ],
      "source": [
        "matplotlib.rcParams['figure.figsize'] = (12.0, 6.0)\n",
        "prices = pd.DataFrame({\"price\":np.log10(data[\"SalePrice\"])})\n",
        "prices.hist()"
      ]
    },
    {
      "cell_type": "code",
      "execution_count": null,
      "metadata": {
        "_cell_guid": "cb2d88d7-7f76-4b04-d28b-d2c315ae4346",
        "id": "pjQZWOFPamyc"
      },
      "outputs": [],
      "source": [
        "# concatenate train and test data before transformation\n",
        "all_data = pd.concat((train.loc[:,'MSSubClass':'SaleCondition'],\n",
        "                      test.loc[:,'MSSubClass':'SaleCondition']))"
      ]
    },
    {
      "cell_type": "code",
      "execution_count": null,
      "metadata": {
        "_cell_guid": "4ed54771-95c4-00e7-b2cd-569d17862878",
        "id": "WjZBfp6Lamye"
      },
      "outputs": [],
      "source": [
        "#log transform the target:\n",
        "train[\"SalePrice\"] = np.log1p(train[\"SalePrice\"])\n",
        "test[\"SalePrice\"] = np.log1p(test[\"SalePrice\"])\n",
        "\n",
        "#log transform skewed numeric features (skewness > 0.75):\n",
        "numeric_feats = all_data.dtypes[all_data.dtypes != \"object\"].index\n",
        "\n",
        "skewed_feats = train[numeric_feats].apply(lambda x: skew(x.dropna())) #compute skewness\n",
        "skewed_feats = skewed_feats[skewed_feats > 0.75]\n",
        "skewed_feats = skewed_feats.index\n",
        "\n",
        "all_data[skewed_feats] = np.log1p(all_data[skewed_feats])"
      ]
    },
    {
      "cell_type": "code",
      "execution_count": null,
      "metadata": {
        "_cell_guid": "3854ab12-a4f3-4c88-fe6e-1fee08e18af2",
        "id": "LtEyP0Rlamyf"
      },
      "outputs": [],
      "source": [
        "## Create dummy variables\n"
      ]
    },
    {
      "cell_type": "code",
      "execution_count": null,
      "metadata": {
        "_cell_guid": "5d417300-0deb-3353-cabf-95f75af62678",
        "id": "KZ50laQdamyg"
      },
      "outputs": [],
      "source": [
        "#filling numerical columns NA's with the mean of the columns on the train dataset:\n"
      ]
    },
    {
      "cell_type": "code",
      "execution_count": null,
      "metadata": {
        "_cell_guid": "fe687685-cdac-0a89-4d71-af2d11d87a81",
        "id": "ILje28_damyg"
      },
      "outputs": [],
      "source": [
        "#create matrices for sklearn:\n",
        "X_train = all_data[:train.shape[0]]\n",
        "X_test = all_data[train.shape[0]:]\n",
        "y_train = train.SalePrice\n",
        "y_test = test.SalePrice"
      ]
    },
    {
      "cell_type": "markdown",
      "metadata": {
        "_cell_guid": "cc4e3014-23b7-2971-ddb0-f67b03f83558",
        "id": "qq3vUGtbamyh"
      },
      "source": [
        "###Models\n"
      ]
    },
    {
      "cell_type": "markdown",
      "metadata": {
        "id": "ySLaDCLseLnZ"
      },
      "source": [
        "Ridge model is a regression model where the loss function is the linear least squares function and regularization is given by the l2-norm.\n",
        "The objective function is given by: \n",
        "$$ {||y - Xw||^2_2 + alpha * ||w||^2_2 }$$\n",
        "\n",
        "The main tuning parameter for the Ridge model is alpha - a regularization parameter that measures how flexible our model is. The higher the regularization the less prone our model will be to overfit. However it will also lose flexibility and might not capture all of the signal in the data."
      ]
    },
    {
      "cell_type": "code",
      "execution_count": null,
      "metadata": {
        "_cell_guid": "436ce6e8-917f-8c88-3d7b-245e82a1619f",
        "id": "bMQl12D9amyi"
      },
      "outputs": [],
      "source": [
        "model_ridge = Ridge()"
      ]
    },
    {
      "cell_type": "markdown",
      "metadata": {
        "id": "lhBDGUWke5np"
      },
      "source": [
        "**Exercise**: Perform a grid search in which you try different values of alpha and where the goal is to have the lowest RMSE on the train dataset.\n",
        "\n",
        "The values to use for alpha are: \n",
        "0, 0.05, 0.1, 0.3, 1, 3, 5, 10, 15, 30, 50, 75\n"
      ]
    },
    {
      "cell_type": "code",
      "execution_count": null,
      "metadata": {
        "id": "ryl-MNxkCk15"
      },
      "outputs": [],
      "source": [
        "## Function to compute the RMSE on the train dataset\n",
        "def compute_train_rmse(model):\n",
        "    model.fit(X_train,y_train)\n",
        "    rmse = np.sqrt(mean_squared_error(y_train, model.predict(X_train)))\n",
        "    return(rmse)"
      ]
    },
    {
      "cell_type": "code",
      "execution_count": null,
      "metadata": {
        "id": "V7m_PWMrCRPr"
      },
      "outputs": [],
      "source": []
    },
    {
      "cell_type": "code",
      "execution_count": null,
      "metadata": {
        "id": "ot_tU-QLfxFV"
      },
      "outputs": [],
      "source": []
    },
    {
      "cell_type": "markdown",
      "metadata": {
        "id": "Z_n2UAr5fYRE"
      },
      "source": [
        "**Exercise**: Plot the train RMSE for the different values of alpha.\n",
        "\n",
        "Which value gives the best (lowest) RMSE ?\n",
        "\n"
      ]
    },
    {
      "cell_type": "code",
      "execution_count": null,
      "metadata": {
        "id": "PcDp4083Dump"
      },
      "outputs": [],
      "source": []
    },
    {
      "cell_type": "markdown",
      "metadata": {
        "id": "rqzQGPlGgw6u"
      },
      "source": [
        "Which alpha yields the best model ?"
      ]
    },
    {
      "cell_type": "markdown",
      "metadata": {
        "id": "HAVtkD2ag5ux"
      },
      "source": [
        "Now let's see how this holds on the test data.\n",
        "\n",
        "**Exercise**: Instead of evaluating on the train data, now evaluate the RMSE on the test data."
      ]
    },
    {
      "cell_type": "code",
      "execution_count": null,
      "metadata": {
        "id": "Se7VwGT7hK2k"
      },
      "outputs": [],
      "source": [
        "## Function to compute the RMSE on the test dataset\n",
        "def compute_test_rmse(model):\n",
        "    model.fit(X_train,y_train)\n",
        "    rmse = np.sqrt(mean_squared_error(y_test, model.predict(X_test)))\n",
        "    return(rmse)"
      ]
    },
    {
      "cell_type": "code",
      "execution_count": null,
      "metadata": {
        "id": "zomQoQ5bhTE5"
      },
      "outputs": [],
      "source": []
    },
    {
      "cell_type": "code",
      "execution_count": null,
      "metadata": {
        "id": "DNc7_QNRhV0A"
      },
      "outputs": [],
      "source": []
    },
    {
      "cell_type": "markdown",
      "metadata": {
        "id": "buQtIw5Ahh-F"
      },
      "source": [
        "**Exercise**: Plot the test RMSE for the different values of alpha.\n",
        "\n",
        "How does the best performing alpha on training test perform on the test set? What happened?"
      ]
    },
    {
      "cell_type": "code",
      "execution_count": null,
      "metadata": {
        "id": "ivx2fanIf3xk"
      },
      "outputs": [],
      "source": []
    },
    {
      "cell_type": "markdown",
      "metadata": {
        "id": "RC-UOUZ5h6Qa"
      },
      "source": [
        "**Importance of cross-validation**\n",
        "\n",
        "Let's now perform the grid search while using cross-validation to evaluate our models. For this, you can use the cross_val_score function that is provided by scikit-learn."
      ]
    },
    {
      "cell_type": "code",
      "execution_count": null,
      "metadata": {
        "_cell_guid": "82886739-eee6-5d7a-4be9-e1fe6ac059f1",
        "id": "tg4lb9T-amyi"
      },
      "outputs": [],
      "source": [
        "def rmse_cv(model):\n",
        "    rmse= np.sqrt(-cross_val_score(model, X_train, y_train, scoring=\"neg_mean_squared_error\", cv = 5))\n",
        "    return(rmse)"
      ]
    },
    {
      "cell_type": "markdown",
      "metadata": {
        "_cell_guid": "69ff958c-dbbb-4750-3fb0-d0ac17ff6363",
        "id": "nuBCWPsgamyi"
      },
      "source": [
        "The main tuning parameter for the Ridge model is alpha - a regularization parameter that measures how flexible our model is. The higher the regularization the less prone our model will be to overfit. However it will also lose flexibility and might not capture all of the signal in the data."
      ]
    },
    {
      "cell_type": "code",
      "execution_count": null,
      "metadata": {
        "_cell_guid": "f6b86166-f581-6e05-5274-d3d3516ebaf3",
        "id": "pp9XqrONamyj"
      },
      "outputs": [],
      "source": []
    },
    {
      "cell_type": "code",
      "execution_count": null,
      "metadata": {
        "id": "F70QibzYixvA"
      },
      "outputs": [],
      "source": []
    },
    {
      "cell_type": "code",
      "execution_count": null,
      "metadata": {
        "id": "9x7QXskdi-1N"
      },
      "outputs": [],
      "source": []
    },
    {
      "cell_type": "code",
      "execution_count": null,
      "metadata": {
        "_cell_guid": "f8cf53ba-8441-9233-b7f5-a851d270b770",
        "id": "FyzOv258amyj"
      },
      "outputs": [],
      "source": [
        "##Plot the cross-validation result without the first alpha value (0)\n"
      ]
    },
    {
      "cell_type": "markdown",
      "metadata": {
        "_cell_guid": "37486402-4a48-912f-84ee-a3611334b133",
        "id": "y1ee-4qKamyj"
      },
      "source": [
        "Note the U-ish shaped curve above. When alpha is too large the regularization is too strong and the model cannot capture all the complexities in the data. If however we let the model be too flexible (alpha small) the model begins to overfit. A value of alpha = 10 is about right based on the plot above."
      ]
    },
    {
      "cell_type": "code",
      "execution_count": null,
      "metadata": {
        "_cell_guid": "d42c18c9-ee70-929f-ce63-aac7f77796cc",
        "id": "80IY1CgYamyk"
      },
      "outputs": [],
      "source": []
    },
    {
      "cell_type": "markdown",
      "metadata": {
        "_cell_guid": "863fb699-7bcd-3748-3dbb-1c9b18afee9b",
        "id": "Y1Bj72cSamyk"
      },
      "source": [
        "Let' try out the Lasso model. We will do a slightly different approach here and use the built in Lasso CV to figure out the best alpha for us. \n"
      ]
    },
    {
      "cell_type": "code",
      "execution_count": null,
      "metadata": {
        "_cell_guid": "8204520c-a595-2ad2-4685-0b84cc662b84",
        "id": "I87JDdilamyk"
      },
      "outputs": [],
      "source": []
    },
    {
      "cell_type": "code",
      "execution_count": null,
      "metadata": {
        "_cell_guid": "e78e6126-4de0-08ad-250b-46a3f0f48de0",
        "id": "1fF42Nlfamyk"
      },
      "outputs": [],
      "source": []
    },
    {
      "cell_type": "markdown",
      "metadata": {
        "_cell_guid": "abc5f43e-1c38-4c1e-cb70-a95c8d9be8de",
        "id": "K686JvHjamyl"
      },
      "source": [
        "The lasso performs even better so we'll just use this one to predict on the test set. Another good thing about the Lasso is that it does feature selection for you - setting coefficients of features it deems unimportant to zero. Let's take a look at the coefficients:"
      ]
    },
    {
      "cell_type": "code",
      "execution_count": null,
      "metadata": {
        "_cell_guid": "c7be87ca-412a-cb19-1524-cd94cf698d44",
        "id": "gCvgCfwramyl"
      },
      "outputs": [],
      "source": []
    },
    {
      "cell_type": "code",
      "execution_count": null,
      "metadata": {
        "_cell_guid": "14be641e-bbe0-824d-d90f-f47698c8b5c5",
        "id": "VpAsW7Nyamyl"
      },
      "outputs": [],
      "source": []
    },
    {
      "cell_type": "markdown",
      "metadata": {
        "_cell_guid": "632e23a8-948f-c692-f5e9-1aa8a75f21d5",
        "id": "9WGdAy3zamyl"
      },
      "source": [
        "We can also take a look directly at what the most important coefficients are:"
      ]
    },
    {
      "cell_type": "code",
      "execution_count": null,
      "metadata": {
        "_cell_guid": "3efc02df-c877-b1fe-1807-5dd93c896c63",
        "id": "at-rEnGQamym"
      },
      "outputs": [],
      "source": []
    },
    {
      "cell_type": "code",
      "execution_count": null,
      "metadata": {
        "_cell_guid": "87317789-6e7e-d57f-0b54-d8ba0ee26abf",
        "id": "SwCOjyiAamym"
      },
      "outputs": [],
      "source": []
    }
  ],
  "metadata": {
    "_change_revision": 0,
    "_is_fork": false,
    "colab": {
      "collapsed_sections": [],
      "name": "lab3_regularized_linear_models.ipynb",
      "provenance": []
    },
    "interpreter": {
      "hash": "916dbcbb3f70747c44a77c7bcd40155683ae19c65e1c03b4aa3499c5328201f1"
    },
    "kernelspec": {
      "display_name": "Python 3.8.10 64-bit",
      "language": "python",
      "name": "python3"
    },
    "language_info": {
      "codemirror_mode": {
        "name": "ipython",
        "version": 3
      },
      "file_extension": ".py",
      "mimetype": "text/x-python",
      "name": "python",
      "nbconvert_exporter": "python",
      "pygments_lexer": "ipython3",
      "version": "3.8.10"
    }
  },
  "nbformat": 4,
  "nbformat_minor": 0
}
